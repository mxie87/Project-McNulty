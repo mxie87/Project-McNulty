{
 "cells": [
  {
   "cell_type": "code",
   "execution_count": 1,
   "metadata": {},
   "outputs": [],
   "source": [
    "# all of the imports\n",
    "import pandas as pd\n",
    "import numpy as np\n",
    "import pickle \n",
    "import matplotlib.pyplot as plt\n",
    "import seaborn as sns\n",
    "import patsy\n",
    "import statsmodels.api as sm\n",
    "import statsmodels.formula.api as smf\n",
    "from sklearn.linear_model import LinearRegression, LogisticRegression\n",
    "from sklearn import metrics\n",
    "from sklearn.preprocessing import PolynomialFeatures\n",
    "from sklearn.pipeline import make_pipeline\n",
    "from sklearn.model_selection import train_test_split, RandomizedSearchCV, GridSearchCV\n",
    "from sklearn.model_selection import KFold\n",
    "from sklearn.preprocessing import StandardScaler\n",
    "% matplotlib inline\n",
    "\n",
    "from collections import Counter\n",
    "from sklearn.datasets import make_classification\n",
    "from imblearn.over_sampling import SMOTE, ADASYN\n",
    "\n",
    "from patsy import dmatrices\n",
    "from sklearn import linear_model as lm\n",
    "from sklearn import metrics\n",
    "from sklearn.metrics import f1_score, confusion_matrix,accuracy_score, recall_score, roc_curve\n",
    "import warnings\n",
    "warnings.filterwarnings('ignore')"
   ]
  },
  {
   "cell_type": "markdown",
   "metadata": {},
   "source": [
    "Read in csv file downloaded from kaggle"
   ]
  },
  {
   "cell_type": "code",
   "execution_count": 2,
   "metadata": {},
   "outputs": [
    {
     "name": "stdout",
     "output_type": "stream",
     "text": [
      "<class 'pandas.core.frame.DataFrame'>\n",
      "RangeIndex: 2215024 entries, 0 to 2215023\n",
      "Data columns (total 13 columns):\n",
      "IncidntNum    int64\n",
      "Category      object\n",
      "Descript      object\n",
      "DayOfWeek     object\n",
      "Date          object\n",
      "Time          object\n",
      "PdDistrict    object\n",
      "Resolution    object\n",
      "Address       object\n",
      "X             float64\n",
      "Y             float64\n",
      "Location      object\n",
      "PdId          int64\n",
      "dtypes: float64(2), int64(2), object(9)\n",
      "memory usage: 219.7+ MB\n"
     ]
    }
   ],
   "source": [
    "df = pd.read_csv('police-department-incidents.csv')\n",
    "df.info()"
   ]
  },
  {
   "cell_type": "code",
   "execution_count": 3,
   "metadata": {},
   "outputs": [
    {
     "name": "stdout",
     "output_type": "stream",
     "text": [
      "<class 'pandas.core.frame.DataFrame'>\n",
      "RangeIndex: 2215024 entries, 0 to 2215023\n",
      "Data columns (total 13 columns):\n",
      "IncidntNum    int64\n",
      "Category      object\n",
      "Descript      object\n",
      "DayOfWeek     object\n",
      "Date          object\n",
      "Time          object\n",
      "PdDistrict    object\n",
      "Resolution    object\n",
      "Address       object\n",
      "X             float64\n",
      "Y             float64\n",
      "Location      object\n",
      "PdId          int64\n",
      "dtypes: float64(2), int64(2), object(9)\n",
      "memory usage: 219.7+ MB\n"
     ]
    }
   ],
   "source": [
    "df.drop_duplicates()\n",
    "df.info()\n",
    "# there are no duplicates"
   ]
  },
  {
   "cell_type": "markdown",
   "metadata": {},
   "source": [
    "Find Nulls"
   ]
  },
  {
   "cell_type": "code",
   "execution_count": 4,
   "metadata": {},
   "outputs": [
    {
     "data": {
      "text/plain": [
       "True"
      ]
     },
     "execution_count": 4,
     "metadata": {},
     "output_type": "execute_result"
    }
   ],
   "source": [
    "df.isnull().values.any()"
   ]
  },
  {
   "cell_type": "code",
   "execution_count": 5,
   "metadata": {},
   "outputs": [
    {
     "name": "stdout",
     "output_type": "stream",
     "text": [
      "IncidntNum 0\n",
      "Category 0\n",
      "Descript 0\n",
      "DayOfWeek 0\n",
      "Date 0\n",
      "Time 0\n",
      "PdDistrict 1\n",
      "Resolution 0\n",
      "Address 0\n",
      "X 0\n",
      "Y 0\n",
      "Location 0\n",
      "PdId 0\n"
     ]
    }
   ],
   "source": [
    "for i in df.columns:\n",
    "    print(i, df[i].isnull().sum())\n",
    "    \n",
    "# there was only 1 row containing null"
   ]
  },
  {
   "cell_type": "code",
   "execution_count": 6,
   "metadata": {},
   "outputs": [
    {
     "data": {
      "text/html": [
       "<div>\n",
       "<style scoped>\n",
       "    .dataframe tbody tr th:only-of-type {\n",
       "        vertical-align: middle;\n",
       "    }\n",
       "\n",
       "    .dataframe tbody tr th {\n",
       "        vertical-align: top;\n",
       "    }\n",
       "\n",
       "    .dataframe thead th {\n",
       "        text-align: right;\n",
       "    }\n",
       "</style>\n",
       "<table border=\"1\" class=\"dataframe\">\n",
       "  <thead>\n",
       "    <tr style=\"text-align: right;\">\n",
       "      <th></th>\n",
       "      <th>IncidntNum</th>\n",
       "      <th>Category</th>\n",
       "      <th>Descript</th>\n",
       "      <th>DayOfWeek</th>\n",
       "      <th>Date</th>\n",
       "      <th>Time</th>\n",
       "      <th>PdDistrict</th>\n",
       "      <th>Resolution</th>\n",
       "      <th>Address</th>\n",
       "      <th>X</th>\n",
       "      <th>Y</th>\n",
       "      <th>Location</th>\n",
       "      <th>PdId</th>\n",
       "    </tr>\n",
       "  </thead>\n",
       "  <tbody>\n",
       "    <tr>\n",
       "      <th>1866038</th>\n",
       "      <td>166018573</td>\n",
       "      <td>LARCENY/THEFT</td>\n",
       "      <td>GRAND THEFT FROM LOCKED AUTO</td>\n",
       "      <td>Sunday</td>\n",
       "      <td>2016-01-17T00:00:00</td>\n",
       "      <td>23:54</td>\n",
       "      <td>NaN</td>\n",
       "      <td>NONE</td>\n",
       "      <td>100 Block of VELASCO AV</td>\n",
       "      <td>-122.413352</td>\n",
       "      <td>37.708202</td>\n",
       "      <td>{'latitude': '37.70820245849022', 'needs_recod...</td>\n",
       "      <td>16601857306244</td>\n",
       "    </tr>\n",
       "  </tbody>\n",
       "</table>\n",
       "</div>"
      ],
      "text/plain": [
       "         IncidntNum       Category                      Descript DayOfWeek  \\\n",
       "1866038   166018573  LARCENY/THEFT  GRAND THEFT FROM LOCKED AUTO    Sunday   \n",
       "\n",
       "                        Date   Time PdDistrict Resolution  \\\n",
       "1866038  2016-01-17T00:00:00  23:54        NaN       NONE   \n",
       "\n",
       "                         Address           X          Y  \\\n",
       "1866038  100 Block of VELASCO AV -122.413352  37.708202   \n",
       "\n",
       "                                                  Location            PdId  \n",
       "1866038  {'latitude': '37.70820245849022', 'needs_recod...  16601857306244  "
      ]
     },
     "execution_count": 6,
     "metadata": {},
     "output_type": "execute_result"
    }
   ],
   "source": [
    "df[df['PdDistrict'].isnull()]"
   ]
  },
  {
   "cell_type": "code",
   "execution_count": 7,
   "metadata": {},
   "outputs": [],
   "source": [
    "df.drop(df.index[[1866038]],axis=0,inplace=True)"
   ]
  },
  {
   "cell_type": "markdown",
   "metadata": {},
   "source": [
    "Dropped columns that would not be used in the modeling"
   ]
  },
  {
   "cell_type": "code",
   "execution_count": 8,
   "metadata": {},
   "outputs": [],
   "source": [
    "df2 = df.drop(['IncidntNum', 'Descript', 'Address','X','Y','Location','PdId'], axis=1)"
   ]
  },
  {
   "cell_type": "code",
   "execution_count": 9,
   "metadata": {},
   "outputs": [
    {
     "data": {
      "text/plain": [
       "SOUTHERN      399785\n",
       "MISSION       300076\n",
       "NORTHERN      272713\n",
       "CENTRAL       226255\n",
       "BAYVIEW       221000\n",
       "INGLESIDE     194180\n",
       "TENDERLOIN    191746\n",
       "TARAVAL       166971\n",
       "PARK          125479\n",
       "RICHMOND      116818\n",
       "Name: PdDistrict, dtype: int64"
      ]
     },
     "execution_count": 9,
     "metadata": {},
     "output_type": "execute_result"
    }
   ],
   "source": [
    "df.PdDistrict.value_counts()"
   ]
  },
  {
   "cell_type": "code",
   "execution_count": 10,
   "metadata": {},
   "outputs": [],
   "source": [
    "# import seaborn as sns\n",
    "# case_by_district = df.PdDistrict.value_counts()\n"
   ]
  },
  {
   "cell_type": "code",
   "execution_count": 11,
   "metadata": {},
   "outputs": [
    {
     "data": {
      "text/plain": [
       "LARCENY/THEFT                  480447\n",
       "OTHER OFFENSES                 309358\n",
       "NON-CRIMINAL                   238323\n",
       "ASSAULT                        194694\n",
       "VEHICLE THEFT                  126602\n",
       "DRUG/NARCOTIC                  119628\n",
       "VANDALISM                      116059\n",
       "WARRANTS                       101379\n",
       "BURGLARY                        91543\n",
       "SUSPICIOUS OCC                  80444\n",
       "MISSING PERSON                  64961\n",
       "ROBBERY                         55867\n",
       "FRAUD                           41542\n",
       "SECONDARY CODES                 25831\n",
       "FORGERY/COUNTERFEITING          23050\n",
       "WEAPON LAWS                     22234\n",
       "TRESPASS                        19449\n",
       "PROSTITUTION                    16701\n",
       "STOLEN PROPERTY                 11891\n",
       "SEX OFFENSES, FORCIBLE          11742\n",
       "DISORDERLY CONDUCT              10040\n",
       "DRUNKENNESS                      9826\n",
       "RECOVERED VEHICLE                8716\n",
       "DRIVING UNDER THE INFLUENCE      5672\n",
       "KIDNAPPING                       5346\n",
       "RUNAWAY                          4440\n",
       "LIQUOR LAWS                      4083\n",
       "ARSON                            3931\n",
       "EMBEZZLEMENT                     2988\n",
       "LOITERING                        2430\n",
       "SUICIDE                          1292\n",
       "FAMILY OFFENSES                  1183\n",
       "BAD CHECKS                        925\n",
       "BRIBERY                           813\n",
       "EXTORTION                         741\n",
       "SEX OFFENSES, NON FORCIBLE        431\n",
       "GAMBLING                          348\n",
       "PORNOGRAPHY/OBSCENE MAT            59\n",
       "TREA                               14\n",
       "Name: Category, dtype: int64"
      ]
     },
     "execution_count": 11,
     "metadata": {},
     "output_type": "execute_result"
    }
   ],
   "source": [
    "df.Category.value_counts()"
   ]
  },
  {
   "cell_type": "code",
   "execution_count": 12,
   "metadata": {},
   "outputs": [
    {
     "data": {
      "text/plain": [
       "GRAND THEFT FROM LOCKED AUTO                              178835\n",
       "LOST PROPERTY                                              77956\n",
       "BATTERY                                                    67654\n",
       "STOLEN AUTOMOBILE                                          64763\n",
       "DRIVERS LICENSE, SUSPENDED OR REVOKED                      62534\n",
       "AIDED CASE, MENTAL DISTURBED                               56313\n",
       "WARRANT ARREST                                             56230\n",
       "SUSPICIOUS OCCURRENCE                                      52490\n",
       "PETTY THEFT FROM LOCKED AUTO                               51946\n",
       "PETTY THEFT OF PROPERTY                                    46114\n",
       "MALICIOUS MISCHIEF, VANDALISM                              45238\n",
       "MALICIOUS MISCHIEF, VANDALISM OF VEHICLES                  44290\n",
       "TRAFFIC VIOLATION                                          38105\n",
       "THREATS AGAINST LIFE                                       34670\n",
       "FOUND PROPERTY                                             33383\n",
       "GRAND THEFT OF PROPERTY                                    29420\n",
       "ENROUTE TO OUTSIDE JURISDICTION                            29104\n",
       "PETTY THEFT FROM A BUILDING                                25728\n",
       "FOUND PERSON                                               24539\n",
       "PETTY THEFT SHOPLIFTING                                    24478\n",
       "POSSESSION OF NARCOTICS PARAPHERNALIA                      22891\n",
       "GRAND THEFT FROM A BUILDING                                22503\n",
       "CREDIT CARD, THEFT BY USE OF                               22079\n",
       "STOLEN TRUCK                                               21492\n",
       "RESISTING ARREST                                           21474\n",
       "MISSING ADULT                                              20574\n",
       "MISCELLANEOUS INVESTIGATION                                20219\n",
       "MISSING JUVENILE                                           19848\n",
       "INVESTIGATIVE DETENTION                                    19360\n",
       "DOMESTIC VIOLENCE                                          18488\n",
       "                                                           ...  \n",
       "BIGAMY, INCEST, AND THE CRIME AGAINST NATURE (GENERAL)         1\n",
       "HAZARDOUS MATERIALS, STORE WITHOUT PERMIT                      1\n",
       "MERCHANDISE TITLE DOCUMENT FRAUD                               1\n",
       "ENCOURAGE MINOR TO USE HALLUCINOGENIC                          1\n",
       "ASSAULT TO ROB WITH BODILY FORCE                               1\n",
       "ENCOURAGE MINOR TO USE AMPHETAMINE                             1\n",
       "ACCIDENTAL LACERATIONS                                         1\n",
       "UNSOLICITED FAX ADVERTISING                                    1\n",
       "VETERAN OR EX-SERVICEMAN, FALSE REPRESENTATION AS              1\n",
       "FALSE REPRESENTATION TO SECONDHAND DEALER                      1\n",
       "PUBLIC UTILITY INFORMATION, FRAUDULENTLY OBTAINING             1\n",
       "ENCOURAGE MINOR TO USE METH-AMPHETAMINE                        1\n",
       "ASSAULT, AGGRAVATED, ON POLICE OFFICER, W/ FULL AUTO           1\n",
       "ROBBERY, VEHICLE FOR HIRE, ATT., W/ KNIFE                      1\n",
       "VIOLATION OF CALIF UNEMPLOYMENT INSURANCE ACT                  1\n",
       "ATTEMPTED HOMICIDE BY SNIPING                                  1\n",
       "CRIMES INVOLVING RECEIPTS OR TITLES                            1\n",
       "EMBEZZLEMENT, PETTY THEFT BY COLLECTOR                         1\n",
       "ENCOURAGE MINOR TO USE OPIATES                                 1\n",
       "ENCOURAGE MINOR TO USE HEROIN                                  1\n",
       "ASSAULT, AGGRAVATED, ON POLICE OFFICER, W/ SEMI AUTO           1\n",
       "PLANTING/CULTIVATING PEYOTE                                    1\n",
       "HAZARDOUS MATERIALS, TRANSPORT WITHOUT PERMIT                  1\n",
       "BOMBING OF POLICE BUILDING                                     1\n",
       "BURGLARY,HOTEL UNDER CONSTRUCTION, ATT. FORCIBLE               1\n",
       "REFUSAL TO IDENTIFY                                            1\n",
       "TRANSPORTATION OF OPIUM                                        1\n",
       "TRANSPORTATION OF OPIUM DERIVATIVE                             1\n",
       "SNIPER SCOPE, POSSESSION OF                                    1\n",
       "HARASSING CHILD OR WARD BECAUSE OF PERSON'S EMPLOYMENT         1\n",
       "Name: Descript, Length: 915, dtype: int64"
      ]
     },
     "execution_count": 12,
     "metadata": {},
     "output_type": "execute_result"
    }
   ],
   "source": [
    "crime_desc = df.Descript.value_counts()\n",
    "crime_desc"
   ]
  },
  {
   "cell_type": "code",
   "execution_count": 13,
   "metadata": {},
   "outputs": [],
   "source": [
    "# import csv\n",
    "# header = ['Description', 'Count']\n",
    "# with open('crime_classes.csv','w') as csvfile:\n",
    "#     writer = csv.writer(csvfile)\n",
    "#     writer.writerow(header)"
   ]
  },
  {
   "cell_type": "code",
   "execution_count": 14,
   "metadata": {},
   "outputs": [],
   "source": [
    "# with open('crime_classes.csv', 'a') as csvfile:\n",
    "#     writer = csv.writer(csvfile)\n",
    "#     for line in crime_desc.iteritems():\n",
    "#         print(line[0])\n",
    "#         print(line[1])\n",
    "#         writer.writerow([line[0],line[1]])\n",
    "# # remember to wrap inside the list or else the writerow will break up the description by character"
   ]
  },
  {
   "cell_type": "markdown",
   "metadata": {},
   "source": [
    "Load in dataframe with crime description and corresponding crime level (1 and 3), which was determined based on best judgement given the limited crime descriptions provided in this dataset. Please note Class 2 has been absorbed into Class 1. "
   ]
  },
  {
   "cell_type": "code",
   "execution_count": 15,
   "metadata": {},
   "outputs": [
    {
     "name": "stdout",
     "output_type": "stream",
     "text": [
      "<class 'pandas.core.frame.DataFrame'>\n",
      "RangeIndex: 914 entries, 0 to 913\n",
      "Data columns (total 3 columns):\n",
      "Description    914 non-null object\n",
      "Count          914 non-null int64\n",
      "class          914 non-null int64\n",
      "dtypes: int64(2), object(1)\n",
      "memory usage: 21.5+ KB\n"
     ]
    },
    {
     "data": {
      "text/html": [
       "<div>\n",
       "<style scoped>\n",
       "    .dataframe tbody tr th:only-of-type {\n",
       "        vertical-align: middle;\n",
       "    }\n",
       "\n",
       "    .dataframe tbody tr th {\n",
       "        vertical-align: top;\n",
       "    }\n",
       "\n",
       "    .dataframe thead th {\n",
       "        text-align: right;\n",
       "    }\n",
       "</style>\n",
       "<table border=\"1\" class=\"dataframe\">\n",
       "  <thead>\n",
       "    <tr style=\"text-align: right;\">\n",
       "      <th></th>\n",
       "      <th>Description</th>\n",
       "      <th>Count</th>\n",
       "      <th>class</th>\n",
       "    </tr>\n",
       "  </thead>\n",
       "  <tbody>\n",
       "    <tr>\n",
       "      <th>0</th>\n",
       "      <td>AGGRAVATED ASSAULT OF POLICE OFFICER, SNIPING</td>\n",
       "      <td>2</td>\n",
       "      <td>1</td>\n",
       "    </tr>\n",
       "    <tr>\n",
       "      <th>1</th>\n",
       "      <td>AGGRAVATED ASSAULT OF POLICE OFFICER,BODILY FORCE</td>\n",
       "      <td>391</td>\n",
       "      <td>1</td>\n",
       "    </tr>\n",
       "    <tr>\n",
       "      <th>2</th>\n",
       "      <td>AGGRAVATED ASSAULT ON POLICE OFFICER WITH A GUN</td>\n",
       "      <td>15</td>\n",
       "      <td>1</td>\n",
       "    </tr>\n",
       "    <tr>\n",
       "      <th>3</th>\n",
       "      <td>AGGRAVATED ASSAULT ON POLICE OFFICER WITH A KNIFE</td>\n",
       "      <td>56</td>\n",
       "      <td>1</td>\n",
       "    </tr>\n",
       "    <tr>\n",
       "      <th>4</th>\n",
       "      <td>AGGRAVATED ASSAULT WITH A DEADLY WEAPON</td>\n",
       "      <td>16405</td>\n",
       "      <td>1</td>\n",
       "    </tr>\n",
       "  </tbody>\n",
       "</table>\n",
       "</div>"
      ],
      "text/plain": [
       "                                         Description  Count  class\n",
       "0      AGGRAVATED ASSAULT OF POLICE OFFICER, SNIPING      2      1\n",
       "1  AGGRAVATED ASSAULT OF POLICE OFFICER,BODILY FORCE    391      1\n",
       "2    AGGRAVATED ASSAULT ON POLICE OFFICER WITH A GUN     15      1\n",
       "3  AGGRAVATED ASSAULT ON POLICE OFFICER WITH A KNIFE     56      1\n",
       "4            AGGRAVATED ASSAULT WITH A DEADLY WEAPON  16405      1"
      ]
     },
     "execution_count": 15,
     "metadata": {},
     "output_type": "execute_result"
    }
   ],
   "source": [
    "# load in dataframe\n",
    "crime_class_df = pd.read_csv('crime_classes_v2.csv')\n",
    "crime_class_df.info()\n",
    "crime_class_df.head()"
   ]
  },
  {
   "cell_type": "code",
   "execution_count": 16,
   "metadata": {},
   "outputs": [],
   "source": [
    "crime_class_df = crime_class_df.drop('Count',axis=1)"
   ]
  },
  {
   "cell_type": "code",
   "execution_count": 17,
   "metadata": {},
   "outputs": [],
   "source": [
    "desc_dict = crime_class_df.set_index('Description').to_dict()\n",
    "new_dict = desc_dict['class']"
   ]
  },
  {
   "cell_type": "code",
   "execution_count": 18,
   "metadata": {},
   "outputs": [
    {
     "data": {
      "text/plain": [
       "914"
      ]
     },
     "execution_count": 18,
     "metadata": {},
     "output_type": "execute_result"
    }
   ],
   "source": [
    "len(new_dict)"
   ]
  },
  {
   "cell_type": "markdown",
   "metadata": {},
   "source": [
    "Create new column, \"crime_level\""
   ]
  },
  {
   "cell_type": "code",
   "execution_count": 19,
   "metadata": {},
   "outputs": [],
   "source": [
    "df['crime_level'] = df.Descript.map(new_dict)"
   ]
  },
  {
   "cell_type": "markdown",
   "metadata": {},
   "source": [
    "Checked to see if there is any null values. There was only one description that were missing the crime level values, that happens to be a class 3 crime level."
   ]
  },
  {
   "cell_type": "code",
   "execution_count": 20,
   "metadata": {},
   "outputs": [],
   "source": [
    "# nulldf = df[df['crime_level'].isnull()]\n",
    "# nulldf.shape\n",
    "# nulldf.crime_level.value_counts()\n",
    "# df[df['Descript']== 'GRAND THEFT FROM LOCKED AUTO'].fillna(3,inplace=True)"
   ]
  },
  {
   "cell_type": "code",
   "execution_count": 21,
   "metadata": {},
   "outputs": [],
   "source": [
    "df.crime_level.fillna(3,inplace=True)"
   ]
  },
  {
   "cell_type": "code",
   "execution_count": 22,
   "metadata": {},
   "outputs": [
    {
     "data": {
      "text/html": [
       "<div>\n",
       "<style scoped>\n",
       "    .dataframe tbody tr th:only-of-type {\n",
       "        vertical-align: middle;\n",
       "    }\n",
       "\n",
       "    .dataframe tbody tr th {\n",
       "        vertical-align: top;\n",
       "    }\n",
       "\n",
       "    .dataframe thead th {\n",
       "        text-align: right;\n",
       "    }\n",
       "</style>\n",
       "<table border=\"1\" class=\"dataframe\">\n",
       "  <thead>\n",
       "    <tr style=\"text-align: right;\">\n",
       "      <th></th>\n",
       "      <th>IncidntNum</th>\n",
       "      <th>Category</th>\n",
       "      <th>Descript</th>\n",
       "      <th>DayOfWeek</th>\n",
       "      <th>Date</th>\n",
       "      <th>Time</th>\n",
       "      <th>PdDistrict</th>\n",
       "      <th>Resolution</th>\n",
       "      <th>Address</th>\n",
       "      <th>X</th>\n",
       "      <th>Y</th>\n",
       "      <th>Location</th>\n",
       "      <th>PdId</th>\n",
       "      <th>crime_level</th>\n",
       "    </tr>\n",
       "  </thead>\n",
       "  <tbody>\n",
       "    <tr>\n",
       "      <th>10</th>\n",
       "      <td>60027038</td>\n",
       "      <td>LARCENY/THEFT</td>\n",
       "      <td>GRAND THEFT FROM LOCKED AUTO</td>\n",
       "      <td>Saturday</td>\n",
       "      <td>2006-01-07T00:00:00</td>\n",
       "      <td>22:00</td>\n",
       "      <td>NORTHERN</td>\n",
       "      <td>NONE</td>\n",
       "      <td>100 Block of HEMLOCK ST</td>\n",
       "      <td>-122.420815</td>\n",
       "      <td>37.787236</td>\n",
       "      <td>{'latitude': '37.7872360476925', 'needs_recodi...</td>\n",
       "      <td>6002703806244</td>\n",
       "      <td>3.0</td>\n",
       "    </tr>\n",
       "    <tr>\n",
       "      <th>16</th>\n",
       "      <td>96043222</td>\n",
       "      <td>LARCENY/THEFT</td>\n",
       "      <td>GRAND THEFT FROM LOCKED AUTO</td>\n",
       "      <td>Tuesday</td>\n",
       "      <td>2009-06-16T00:00:00</td>\n",
       "      <td>22:00</td>\n",
       "      <td>TARAVAL</td>\n",
       "      <td>NONE</td>\n",
       "      <td>1600 Block of GREAT HWY</td>\n",
       "      <td>-122.508797</td>\n",
       "      <td>37.756259</td>\n",
       "      <td>{'latitude': '37.7562590463517', 'needs_recodi...</td>\n",
       "      <td>9604322206244</td>\n",
       "      <td>3.0</td>\n",
       "    </tr>\n",
       "    <tr>\n",
       "      <th>17</th>\n",
       "      <td>60435237</td>\n",
       "      <td>LARCENY/THEFT</td>\n",
       "      <td>GRAND THEFT FROM LOCKED AUTO</td>\n",
       "      <td>Sunday</td>\n",
       "      <td>2006-04-23T00:00:00</td>\n",
       "      <td>21:00</td>\n",
       "      <td>INGLESIDE</td>\n",
       "      <td>NONE</td>\n",
       "      <td>TIFFANY AV / DUNCAN ST</td>\n",
       "      <td>-122.420132</td>\n",
       "      <td>37.746575</td>\n",
       "      <td>{'latitude': '37.7465750465073', 'needs_recodi...</td>\n",
       "      <td>6043523706244</td>\n",
       "      <td>3.0</td>\n",
       "    </tr>\n",
       "    <tr>\n",
       "      <th>19</th>\n",
       "      <td>106159858</td>\n",
       "      <td>LARCENY/THEFT</td>\n",
       "      <td>GRAND THEFT FROM LOCKED AUTO</td>\n",
       "      <td>Wednesday</td>\n",
       "      <td>2010-12-15T00:00:00</td>\n",
       "      <td>17:45</td>\n",
       "      <td>RICHMOND</td>\n",
       "      <td>NONE</td>\n",
       "      <td>1000 Block of POINTLOBOS AV</td>\n",
       "      <td>-122.513642</td>\n",
       "      <td>37.778469</td>\n",
       "      <td>{'latitude': '37.7784692199467', 'needs_recodi...</td>\n",
       "      <td>10615985806244</td>\n",
       "      <td>3.0</td>\n",
       "    </tr>\n",
       "    <tr>\n",
       "      <th>27</th>\n",
       "      <td>40432708</td>\n",
       "      <td>LARCENY/THEFT</td>\n",
       "      <td>GRAND THEFT FROM LOCKED AUTO</td>\n",
       "      <td>Thursday</td>\n",
       "      <td>2004-04-15T00:00:00</td>\n",
       "      <td>15:00</td>\n",
       "      <td>SOUTHERN</td>\n",
       "      <td>NONE</td>\n",
       "      <td>900 Block of BRYANT ST</td>\n",
       "      <td>-122.406730</td>\n",
       "      <td>37.772637</td>\n",
       "      <td>{'latitude': '37.7726367624181', 'needs_recodi...</td>\n",
       "      <td>4043270806244</td>\n",
       "      <td>3.0</td>\n",
       "    </tr>\n",
       "    <tr>\n",
       "      <th>58</th>\n",
       "      <td>66088640</td>\n",
       "      <td>LARCENY/THEFT</td>\n",
       "      <td>GRAND THEFT FROM LOCKED AUTO</td>\n",
       "      <td>Wednesday</td>\n",
       "      <td>2006-12-06T00:00:00</td>\n",
       "      <td>00:05</td>\n",
       "      <td>SOUTHERN</td>\n",
       "      <td>NONE</td>\n",
       "      <td>WASHBURN ST / MISSION ST</td>\n",
       "      <td>-122.415131</td>\n",
       "      <td>37.775889</td>\n",
       "      <td>{'latitude': '37.7758891459127', 'needs_recodi...</td>\n",
       "      <td>6608864006244</td>\n",
       "      <td>3.0</td>\n",
       "    </tr>\n",
       "    <tr>\n",
       "      <th>91</th>\n",
       "      <td>86004739</td>\n",
       "      <td>LARCENY/THEFT</td>\n",
       "      <td>GRAND THEFT FROM LOCKED AUTO</td>\n",
       "      <td>Thursday</td>\n",
       "      <td>2008-01-17T00:00:00</td>\n",
       "      <td>01:40</td>\n",
       "      <td>SOUTHERN</td>\n",
       "      <td>NONE</td>\n",
       "      <td>HOWARD ST / 2ND ST</td>\n",
       "      <td>-122.398262</td>\n",
       "      <td>37.786779</td>\n",
       "      <td>{'latitude': '37.7867787589097', 'needs_recodi...</td>\n",
       "      <td>8600473906244</td>\n",
       "      <td>3.0</td>\n",
       "    </tr>\n",
       "    <tr>\n",
       "      <th>105</th>\n",
       "      <td>60031534</td>\n",
       "      <td>LARCENY/THEFT</td>\n",
       "      <td>GRAND THEFT FROM LOCKED AUTO</td>\n",
       "      <td>Wednesday</td>\n",
       "      <td>2006-01-04T00:00:00</td>\n",
       "      <td>18:30</td>\n",
       "      <td>SOUTHERN</td>\n",
       "      <td>NONE</td>\n",
       "      <td>300 Block of SPEAR ST</td>\n",
       "      <td>-122.390136</td>\n",
       "      <td>37.789481</td>\n",
       "      <td>{'latitude': '37.7894806825431', 'needs_recodi...</td>\n",
       "      <td>6003153406244</td>\n",
       "      <td>3.0</td>\n",
       "    </tr>\n",
       "    <tr>\n",
       "      <th>120</th>\n",
       "      <td>70767638</td>\n",
       "      <td>LARCENY/THEFT</td>\n",
       "      <td>GRAND THEFT FROM LOCKED AUTO</td>\n",
       "      <td>Sunday</td>\n",
       "      <td>2007-07-29T00:00:00</td>\n",
       "      <td>12:30</td>\n",
       "      <td>SOUTHERN</td>\n",
       "      <td>NONE</td>\n",
       "      <td>800 Block of BRYANT ST</td>\n",
       "      <td>-122.403405</td>\n",
       "      <td>37.775421</td>\n",
       "      <td>{'latitude': '37.775420706711', 'needs_recodin...</td>\n",
       "      <td>7076763806244</td>\n",
       "      <td>3.0</td>\n",
       "    </tr>\n",
       "    <tr>\n",
       "      <th>141</th>\n",
       "      <td>106072608</td>\n",
       "      <td>LARCENY/THEFT</td>\n",
       "      <td>GRAND THEFT FROM LOCKED AUTO</td>\n",
       "      <td>Saturday</td>\n",
       "      <td>2010-06-12T00:00:00</td>\n",
       "      <td>13:30</td>\n",
       "      <td>SOUTHERN</td>\n",
       "      <td>NONE</td>\n",
       "      <td>SPEAR ST / MISSION ST</td>\n",
       "      <td>-122.394065</td>\n",
       "      <td>37.792538</td>\n",
       "      <td>{'latitude': '37.792537817505', 'needs_recodin...</td>\n",
       "      <td>10607260806244</td>\n",
       "      <td>3.0</td>\n",
       "    </tr>\n",
       "    <tr>\n",
       "      <th>142</th>\n",
       "      <td>86032398</td>\n",
       "      <td>LARCENY/THEFT</td>\n",
       "      <td>GRAND THEFT FROM LOCKED AUTO</td>\n",
       "      <td>Saturday</td>\n",
       "      <td>2008-04-26T00:00:00</td>\n",
       "      <td>14:00</td>\n",
       "      <td>CENTRAL</td>\n",
       "      <td>NONE</td>\n",
       "      <td>FILBERT ST / SANSOME ST</td>\n",
       "      <td>-122.402976</td>\n",
       "      <td>37.802168</td>\n",
       "      <td>{'latitude': '37.8021677968656', 'needs_recodi...</td>\n",
       "      <td>8603239806244</td>\n",
       "      <td>3.0</td>\n",
       "    </tr>\n",
       "    <tr>\n",
       "      <th>165</th>\n",
       "      <td>50380971</td>\n",
       "      <td>LARCENY/THEFT</td>\n",
       "      <td>GRAND THEFT FROM LOCKED AUTO</td>\n",
       "      <td>Wednesday</td>\n",
       "      <td>2005-04-06T00:00:00</td>\n",
       "      <td>18:30</td>\n",
       "      <td>SOUTHERN</td>\n",
       "      <td>NONE</td>\n",
       "      <td>500 Block of BRANNAN ST</td>\n",
       "      <td>-122.397713</td>\n",
       "      <td>37.777470</td>\n",
       "      <td>{'latitude': '37.7774696662398', 'needs_recodi...</td>\n",
       "      <td>5038097106244</td>\n",
       "      <td>3.0</td>\n",
       "    </tr>\n",
       "    <tr>\n",
       "      <th>172</th>\n",
       "      <td>41022293</td>\n",
       "      <td>LARCENY/THEFT</td>\n",
       "      <td>GRAND THEFT FROM LOCKED AUTO</td>\n",
       "      <td>Saturday</td>\n",
       "      <td>2004-09-04T00:00:00</td>\n",
       "      <td>23:00</td>\n",
       "      <td>SOUTHERN</td>\n",
       "      <td>NONE</td>\n",
       "      <td>400 Block of 10TH ST</td>\n",
       "      <td>-122.410541</td>\n",
       "      <td>37.770913</td>\n",
       "      <td>{'latitude': '37.7709130566165', 'needs_recodi...</td>\n",
       "      <td>4102229306244</td>\n",
       "      <td>3.0</td>\n",
       "    </tr>\n",
       "    <tr>\n",
       "      <th>199</th>\n",
       "      <td>41022873</td>\n",
       "      <td>LARCENY/THEFT</td>\n",
       "      <td>GRAND THEFT FROM LOCKED AUTO</td>\n",
       "      <td>Tuesday</td>\n",
       "      <td>2004-09-07T00:00:00</td>\n",
       "      <td>11:15</td>\n",
       "      <td>MISSION</td>\n",
       "      <td>NONE</td>\n",
       "      <td>19TH ST / VALENCIA ST</td>\n",
       "      <td>-122.421426</td>\n",
       "      <td>37.760102</td>\n",
       "      <td>{'latitude': '37.760101797057', 'needs_recodin...</td>\n",
       "      <td>4102287306244</td>\n",
       "      <td>3.0</td>\n",
       "    </tr>\n",
       "    <tr>\n",
       "      <th>202</th>\n",
       "      <td>126191288</td>\n",
       "      <td>LARCENY/THEFT</td>\n",
       "      <td>GRAND THEFT FROM LOCKED AUTO</td>\n",
       "      <td>Thursday</td>\n",
       "      <td>2012-11-29T00:00:00</td>\n",
       "      <td>07:45</td>\n",
       "      <td>CENTRAL</td>\n",
       "      <td>NONE</td>\n",
       "      <td>THE EMBARCADERONORTH ST / WASHINGTON ST</td>\n",
       "      <td>-122.395330</td>\n",
       "      <td>37.796665</td>\n",
       "      <td>{'latitude': '37.7966652983014', 'needs_recodi...</td>\n",
       "      <td>12619128806244</td>\n",
       "      <td>3.0</td>\n",
       "    </tr>\n",
       "    <tr>\n",
       "      <th>238</th>\n",
       "      <td>146006413</td>\n",
       "      <td>LARCENY/THEFT</td>\n",
       "      <td>GRAND THEFT FROM LOCKED AUTO</td>\n",
       "      <td>Tuesday</td>\n",
       "      <td>2014-01-07T00:00:00</td>\n",
       "      <td>18:30</td>\n",
       "      <td>RICHMOND</td>\n",
       "      <td>NONE</td>\n",
       "      <td>9TH AV / MARTIN LUTHER KING JR DR</td>\n",
       "      <td>-122.466430</td>\n",
       "      <td>37.766474</td>\n",
       "      <td>{'latitude': '37.7664741386096', 'needs_recodi...</td>\n",
       "      <td>14600641306244</td>\n",
       "      <td>3.0</td>\n",
       "    </tr>\n",
       "    <tr>\n",
       "      <th>248</th>\n",
       "      <td>116044681</td>\n",
       "      <td>LARCENY/THEFT</td>\n",
       "      <td>GRAND THEFT FROM LOCKED AUTO</td>\n",
       "      <td>Thursday</td>\n",
       "      <td>2011-04-07T00:00:00</td>\n",
       "      <td>13:00</td>\n",
       "      <td>SOUTHERN</td>\n",
       "      <td>NONE</td>\n",
       "      <td>THE EMBARCADEROSOUTH ST / HARRISON ST</td>\n",
       "      <td>-122.388486</td>\n",
       "      <td>37.789573</td>\n",
       "      <td>{'latitude': '37.789572762563', 'needs_recodin...</td>\n",
       "      <td>11604468106244</td>\n",
       "      <td>3.0</td>\n",
       "    </tr>\n",
       "    <tr>\n",
       "      <th>252</th>\n",
       "      <td>146248245</td>\n",
       "      <td>LARCENY/THEFT</td>\n",
       "      <td>GRAND THEFT FROM LOCKED AUTO</td>\n",
       "      <td>Monday</td>\n",
       "      <td>2014-11-24T00:00:00</td>\n",
       "      <td>08:40</td>\n",
       "      <td>NORTHERN</td>\n",
       "      <td>NONE</td>\n",
       "      <td>WEBSTER ST / GEARY BL</td>\n",
       "      <td>-122.431207</td>\n",
       "      <td>37.784568</td>\n",
       "      <td>{'latitude': '37.7845681170336', 'needs_recodi...</td>\n",
       "      <td>14624824506244</td>\n",
       "      <td>3.0</td>\n",
       "    </tr>\n",
       "    <tr>\n",
       "      <th>259</th>\n",
       "      <td>136121968</td>\n",
       "      <td>LARCENY/THEFT</td>\n",
       "      <td>GRAND THEFT FROM LOCKED AUTO</td>\n",
       "      <td>Thursday</td>\n",
       "      <td>2013-07-11T00:00:00</td>\n",
       "      <td>18:00</td>\n",
       "      <td>CENTRAL</td>\n",
       "      <td>NONE</td>\n",
       "      <td>300 Block of BAY ST</td>\n",
       "      <td>-122.412804</td>\n",
       "      <td>37.805774</td>\n",
       "      <td>{'latitude': '37.8057739875696', 'needs_recodi...</td>\n",
       "      <td>13612196806244</td>\n",
       "      <td>3.0</td>\n",
       "    </tr>\n",
       "    <tr>\n",
       "      <th>263</th>\n",
       "      <td>136223097</td>\n",
       "      <td>LARCENY/THEFT</td>\n",
       "      <td>GRAND THEFT FROM LOCKED AUTO</td>\n",
       "      <td>Wednesday</td>\n",
       "      <td>2013-11-06T00:00:00</td>\n",
       "      <td>17:45</td>\n",
       "      <td>BAYVIEW</td>\n",
       "      <td>NONE</td>\n",
       "      <td>400 Block of BAY SHORE BL</td>\n",
       "      <td>-122.406844</td>\n",
       "      <td>37.739401</td>\n",
       "      <td>{'latitude': '37.7394012528109', 'needs_recodi...</td>\n",
       "      <td>13622309706244</td>\n",
       "      <td>3.0</td>\n",
       "    </tr>\n",
       "    <tr>\n",
       "      <th>289</th>\n",
       "      <td>110832995</td>\n",
       "      <td>LARCENY/THEFT</td>\n",
       "      <td>GRAND THEFT FROM LOCKED AUTO</td>\n",
       "      <td>Saturday</td>\n",
       "      <td>2011-10-15T00:00:00</td>\n",
       "      <td>20:43</td>\n",
       "      <td>SOUTHERN</td>\n",
       "      <td>ARREST, CITED</td>\n",
       "      <td>1300 Block of FOLSOM ST</td>\n",
       "      <td>-122.411966</td>\n",
       "      <td>37.773566</td>\n",
       "      <td>{'latitude': '37.773566042081', 'needs_recodin...</td>\n",
       "      <td>11083299506244</td>\n",
       "      <td>3.0</td>\n",
       "    </tr>\n",
       "    <tr>\n",
       "      <th>293</th>\n",
       "      <td>106013389</td>\n",
       "      <td>LARCENY/THEFT</td>\n",
       "      <td>GRAND THEFT FROM LOCKED AUTO</td>\n",
       "      <td>Wednesday</td>\n",
       "      <td>2010-01-27T00:00:00</td>\n",
       "      <td>18:20</td>\n",
       "      <td>SOUTHERN</td>\n",
       "      <td>NONE</td>\n",
       "      <td>1100 Block of BRYANT ST</td>\n",
       "      <td>-122.408881</td>\n",
       "      <td>37.771095</td>\n",
       "      <td>{'latitude': '37.771094695464', 'needs_recodin...</td>\n",
       "      <td>10601338906244</td>\n",
       "      <td>3.0</td>\n",
       "    </tr>\n",
       "    <tr>\n",
       "      <th>301</th>\n",
       "      <td>106008164</td>\n",
       "      <td>LARCENY/THEFT</td>\n",
       "      <td>GRAND THEFT FROM LOCKED AUTO</td>\n",
       "      <td>Wednesday</td>\n",
       "      <td>2010-01-13T00:00:00</td>\n",
       "      <td>20:00</td>\n",
       "      <td>PARK</td>\n",
       "      <td>NONE</td>\n",
       "      <td>0 Block of IRON AL</td>\n",
       "      <td>-122.444675</td>\n",
       "      <td>37.758099</td>\n",
       "      <td>{'latitude': '37.7580987015771', 'needs_recodi...</td>\n",
       "      <td>10600816406244</td>\n",
       "      <td>3.0</td>\n",
       "    </tr>\n",
       "    <tr>\n",
       "      <th>302</th>\n",
       "      <td>31135759</td>\n",
       "      <td>LARCENY/THEFT</td>\n",
       "      <td>GRAND THEFT FROM LOCKED AUTO</td>\n",
       "      <td>Thursday</td>\n",
       "      <td>2003-09-25T00:00:00</td>\n",
       "      <td>23:15</td>\n",
       "      <td>NORTHERN</td>\n",
       "      <td>NONE</td>\n",
       "      <td>BUCHANAN ST / MAGNOLIA ST</td>\n",
       "      <td>-122.432864</td>\n",
       "      <td>37.800772</td>\n",
       "      <td>{'latitude': '37.8007724795702', 'needs_recodi...</td>\n",
       "      <td>3113575906244</td>\n",
       "      <td>3.0</td>\n",
       "    </tr>\n",
       "    <tr>\n",
       "      <th>318</th>\n",
       "      <td>106132280</td>\n",
       "      <td>LARCENY/THEFT</td>\n",
       "      <td>GRAND THEFT FROM LOCKED AUTO</td>\n",
       "      <td>Monday</td>\n",
       "      <td>2010-10-18T00:00:00</td>\n",
       "      <td>00:01</td>\n",
       "      <td>NORTHERN</td>\n",
       "      <td>NONE</td>\n",
       "      <td>POLK ST / WASHINGTON ST</td>\n",
       "      <td>-122.421232</td>\n",
       "      <td>37.793257</td>\n",
       "      <td>{'latitude': '37.7932574953959', 'needs_recodi...</td>\n",
       "      <td>10613228006244</td>\n",
       "      <td>3.0</td>\n",
       "    </tr>\n",
       "    <tr>\n",
       "      <th>336</th>\n",
       "      <td>96074879</td>\n",
       "      <td>LARCENY/THEFT</td>\n",
       "      <td>GRAND THEFT FROM LOCKED AUTO</td>\n",
       "      <td>Tuesday</td>\n",
       "      <td>2009-08-25T00:00:00</td>\n",
       "      <td>16:45</td>\n",
       "      <td>NORTHERN</td>\n",
       "      <td>NONE</td>\n",
       "      <td>2400 Block of LOMBARD ST</td>\n",
       "      <td>-122.441812</td>\n",
       "      <td>37.799002</td>\n",
       "      <td>{'latitude': '37.7990019436809', 'needs_recodi...</td>\n",
       "      <td>9607487906244</td>\n",
       "      <td>3.0</td>\n",
       "    </tr>\n",
       "    <tr>\n",
       "      <th>341</th>\n",
       "      <td>136123936</td>\n",
       "      <td>LARCENY/THEFT</td>\n",
       "      <td>GRAND THEFT FROM LOCKED AUTO</td>\n",
       "      <td>Wednesday</td>\n",
       "      <td>2013-07-17T00:00:00</td>\n",
       "      <td>18:00</td>\n",
       "      <td>BAYVIEW</td>\n",
       "      <td>NONE</td>\n",
       "      <td>MARIPOSA ST / ILLINOIS ST</td>\n",
       "      <td>-122.387921</td>\n",
       "      <td>37.764379</td>\n",
       "      <td>{'latitude': '37.7643790292129', 'needs_recodi...</td>\n",
       "      <td>13612393606244</td>\n",
       "      <td>3.0</td>\n",
       "    </tr>\n",
       "    <tr>\n",
       "      <th>369</th>\n",
       "      <td>106031842</td>\n",
       "      <td>LARCENY/THEFT</td>\n",
       "      <td>GRAND THEFT FROM LOCKED AUTO</td>\n",
       "      <td>Monday</td>\n",
       "      <td>2010-03-15T00:00:00</td>\n",
       "      <td>12:00</td>\n",
       "      <td>INGLESIDE</td>\n",
       "      <td>NONE</td>\n",
       "      <td>200 Block of JOOST AV</td>\n",
       "      <td>-122.440910</td>\n",
       "      <td>37.732417</td>\n",
       "      <td>{'latitude': '37.7324172771969', 'needs_recodi...</td>\n",
       "      <td>10603184206244</td>\n",
       "      <td>3.0</td>\n",
       "    </tr>\n",
       "    <tr>\n",
       "      <th>381</th>\n",
       "      <td>100551230</td>\n",
       "      <td>LARCENY/THEFT</td>\n",
       "      <td>GRAND THEFT FROM LOCKED AUTO</td>\n",
       "      <td>Saturday</td>\n",
       "      <td>2010-06-12T00:00:00</td>\n",
       "      <td>01:00</td>\n",
       "      <td>CENTRAL</td>\n",
       "      <td>NONE</td>\n",
       "      <td>1200 Block of WASHINGTON ST</td>\n",
       "      <td>-122.413834</td>\n",
       "      <td>37.794159</td>\n",
       "      <td>{'latitude': '37.7941589668687', 'needs_recodi...</td>\n",
       "      <td>10055123006244</td>\n",
       "      <td>3.0</td>\n",
       "    </tr>\n",
       "    <tr>\n",
       "      <th>426</th>\n",
       "      <td>80529092</td>\n",
       "      <td>LARCENY/THEFT</td>\n",
       "      <td>GRAND THEFT FROM LOCKED AUTO</td>\n",
       "      <td>Tuesday</td>\n",
       "      <td>2008-05-20T00:00:00</td>\n",
       "      <td>21:30</td>\n",
       "      <td>NORTHERN</td>\n",
       "      <td>NONE</td>\n",
       "      <td>1200 Block of VANNESS AV</td>\n",
       "      <td>-122.421442</td>\n",
       "      <td>37.786852</td>\n",
       "      <td>{'latitude': '37.7868516471087', 'needs_recodi...</td>\n",
       "      <td>8052909206244</td>\n",
       "      <td>3.0</td>\n",
       "    </tr>\n",
       "    <tr>\n",
       "      <th>...</th>\n",
       "      <td>...</td>\n",
       "      <td>...</td>\n",
       "      <td>...</td>\n",
       "      <td>...</td>\n",
       "      <td>...</td>\n",
       "      <td>...</td>\n",
       "      <td>...</td>\n",
       "      <td>...</td>\n",
       "      <td>...</td>\n",
       "      <td>...</td>\n",
       "      <td>...</td>\n",
       "      <td>...</td>\n",
       "      <td>...</td>\n",
       "      <td>...</td>\n",
       "    </tr>\n",
       "    <tr>\n",
       "      <th>2214315</th>\n",
       "      <td>180349942</td>\n",
       "      <td>LARCENY/THEFT</td>\n",
       "      <td>GRAND THEFT FROM LOCKED AUTO</td>\n",
       "      <td>Thursday</td>\n",
       "      <td>2018-05-10T00:00:00</td>\n",
       "      <td>21:30</td>\n",
       "      <td>CENTRAL</td>\n",
       "      <td>NONE</td>\n",
       "      <td>NORTHPOINT ST / LARKIN ST</td>\n",
       "      <td>-122.422009</td>\n",
       "      <td>37.805496</td>\n",
       "      <td>{'latitude': '37.80549602764779', 'needs_recod...</td>\n",
       "      <td>18034994206244</td>\n",
       "      <td>3.0</td>\n",
       "    </tr>\n",
       "    <tr>\n",
       "      <th>2214326</th>\n",
       "      <td>180350096</td>\n",
       "      <td>LARCENY/THEFT</td>\n",
       "      <td>GRAND THEFT FROM LOCKED AUTO</td>\n",
       "      <td>Thursday</td>\n",
       "      <td>2018-05-10T00:00:00</td>\n",
       "      <td>18:00</td>\n",
       "      <td>TENDERLOIN</td>\n",
       "      <td>NONE</td>\n",
       "      <td>FULTON ST / LARKIN ST</td>\n",
       "      <td>-122.416770</td>\n",
       "      <td>37.779585</td>\n",
       "      <td>{'latitude': '37.77958457766739', 'needs_recod...</td>\n",
       "      <td>18035009606244</td>\n",
       "      <td>3.0</td>\n",
       "    </tr>\n",
       "    <tr>\n",
       "      <th>2214339</th>\n",
       "      <td>180350400</td>\n",
       "      <td>LARCENY/THEFT</td>\n",
       "      <td>GRAND THEFT FROM LOCKED AUTO</td>\n",
       "      <td>Thursday</td>\n",
       "      <td>2018-05-10T00:00:00</td>\n",
       "      <td>23:00</td>\n",
       "      <td>NORTHERN</td>\n",
       "      <td>NONE</td>\n",
       "      <td>1300 Block of WEBSTER ST</td>\n",
       "      <td>-122.431046</td>\n",
       "      <td>37.783030</td>\n",
       "      <td>{'latitude': '37.78302957160442', 'needs_recod...</td>\n",
       "      <td>18035040006244</td>\n",
       "      <td>3.0</td>\n",
       "    </tr>\n",
       "    <tr>\n",
       "      <th>2214361</th>\n",
       "      <td>186106926</td>\n",
       "      <td>LARCENY/THEFT</td>\n",
       "      <td>GRAND THEFT FROM LOCKED AUTO</td>\n",
       "      <td>Thursday</td>\n",
       "      <td>2018-05-10T00:00:00</td>\n",
       "      <td>19:00</td>\n",
       "      <td>MISSION</td>\n",
       "      <td>NONE</td>\n",
       "      <td>2000 Block of MISSION ST</td>\n",
       "      <td>-122.419658</td>\n",
       "      <td>37.764221</td>\n",
       "      <td>{'latitude': '37.76422056037451', 'needs_recod...</td>\n",
       "      <td>18610692606244</td>\n",
       "      <td>3.0</td>\n",
       "    </tr>\n",
       "    <tr>\n",
       "      <th>2214362</th>\n",
       "      <td>186106960</td>\n",
       "      <td>LARCENY/THEFT</td>\n",
       "      <td>GRAND THEFT FROM LOCKED AUTO</td>\n",
       "      <td>Thursday</td>\n",
       "      <td>2018-05-10T00:00:00</td>\n",
       "      <td>08:00</td>\n",
       "      <td>MISSION</td>\n",
       "      <td>NONE</td>\n",
       "      <td>18TH ST / CHURCH ST</td>\n",
       "      <td>-122.428355</td>\n",
       "      <td>37.761258</td>\n",
       "      <td>{'latitude': '37.76125771134144', 'needs_recod...</td>\n",
       "      <td>18610696006244</td>\n",
       "      <td>3.0</td>\n",
       "    </tr>\n",
       "    <tr>\n",
       "      <th>2214368</th>\n",
       "      <td>186107128</td>\n",
       "      <td>LARCENY/THEFT</td>\n",
       "      <td>GRAND THEFT FROM LOCKED AUTO</td>\n",
       "      <td>Thursday</td>\n",
       "      <td>2018-05-10T00:00:00</td>\n",
       "      <td>21:30</td>\n",
       "      <td>CENTRAL</td>\n",
       "      <td>NONE</td>\n",
       "      <td>800 Block of BEACH ST</td>\n",
       "      <td>-122.423025</td>\n",
       "      <td>37.806273</td>\n",
       "      <td>{'latitude': '37.806272872054215', 'needs_reco...</td>\n",
       "      <td>18610712806244</td>\n",
       "      <td>3.0</td>\n",
       "    </tr>\n",
       "    <tr>\n",
       "      <th>2214370</th>\n",
       "      <td>180350262</td>\n",
       "      <td>LARCENY/THEFT</td>\n",
       "      <td>GRAND THEFT FROM LOCKED AUTO</td>\n",
       "      <td>Friday</td>\n",
       "      <td>2018-05-11T00:00:00</td>\n",
       "      <td>00:30</td>\n",
       "      <td>CENTRAL</td>\n",
       "      <td>NONE</td>\n",
       "      <td>JONES ST / POST ST</td>\n",
       "      <td>-122.413358</td>\n",
       "      <td>37.787664</td>\n",
       "      <td>{'latitude': '37.78766371957205', 'needs_recod...</td>\n",
       "      <td>18035026206244</td>\n",
       "      <td>3.0</td>\n",
       "    </tr>\n",
       "    <tr>\n",
       "      <th>2214454</th>\n",
       "      <td>180351395</td>\n",
       "      <td>LARCENY/THEFT</td>\n",
       "      <td>GRAND THEFT FROM LOCKED AUTO</td>\n",
       "      <td>Friday</td>\n",
       "      <td>2018-05-11T00:00:00</td>\n",
       "      <td>11:00</td>\n",
       "      <td>NORTHERN</td>\n",
       "      <td>NONE</td>\n",
       "      <td>1000 Block of VANNESS AV</td>\n",
       "      <td>-122.421483</td>\n",
       "      <td>37.785442</td>\n",
       "      <td>{'latitude': '37.785442187265524', 'needs_reco...</td>\n",
       "      <td>18035139506244</td>\n",
       "      <td>3.0</td>\n",
       "    </tr>\n",
       "    <tr>\n",
       "      <th>2214532</th>\n",
       "      <td>180352622</td>\n",
       "      <td>LARCENY/THEFT</td>\n",
       "      <td>GRAND THEFT FROM LOCKED AUTO</td>\n",
       "      <td>Friday</td>\n",
       "      <td>2018-05-11T00:00:00</td>\n",
       "      <td>18:50</td>\n",
       "      <td>NORTHERN</td>\n",
       "      <td>NONE</td>\n",
       "      <td>600 Block of EDDY ST</td>\n",
       "      <td>-122.418360</td>\n",
       "      <td>37.783150</td>\n",
       "      <td>{'latitude': '37.78314989782107', 'needs_recod...</td>\n",
       "      <td>18035262206244</td>\n",
       "      <td>3.0</td>\n",
       "    </tr>\n",
       "    <tr>\n",
       "      <th>2214558</th>\n",
       "      <td>180352973</td>\n",
       "      <td>LARCENY/THEFT</td>\n",
       "      <td>GRAND THEFT FROM LOCKED AUTO</td>\n",
       "      <td>Friday</td>\n",
       "      <td>2018-05-11T00:00:00</td>\n",
       "      <td>23:30</td>\n",
       "      <td>SOUTHERN</td>\n",
       "      <td>NONE</td>\n",
       "      <td>BRYANT ST / DORE ST</td>\n",
       "      <td>-122.409138</td>\n",
       "      <td>37.770819</td>\n",
       "      <td>{'latitude': '37.770819410044915', 'needs_reco...</td>\n",
       "      <td>18035297306244</td>\n",
       "      <td>3.0</td>\n",
       "    </tr>\n",
       "    <tr>\n",
       "      <th>2214562</th>\n",
       "      <td>180353307</td>\n",
       "      <td>LARCENY/THEFT</td>\n",
       "      <td>GRAND THEFT FROM LOCKED AUTO</td>\n",
       "      <td>Friday</td>\n",
       "      <td>2018-05-11T00:00:00</td>\n",
       "      <td>21:45</td>\n",
       "      <td>SOUTHERN</td>\n",
       "      <td>NONE</td>\n",
       "      <td>400 Block of BRANNAN ST</td>\n",
       "      <td>-122.395986</td>\n",
       "      <td>37.778835</td>\n",
       "      <td>{'latitude': '37.77883482056823', 'needs_recod...</td>\n",
       "      <td>18035330706244</td>\n",
       "      <td>3.0</td>\n",
       "    </tr>\n",
       "    <tr>\n",
       "      <th>2214564</th>\n",
       "      <td>180353749</td>\n",
       "      <td>LARCENY/THEFT</td>\n",
       "      <td>GRAND THEFT FROM LOCKED AUTO</td>\n",
       "      <td>Friday</td>\n",
       "      <td>2018-05-11T00:00:00</td>\n",
       "      <td>18:15</td>\n",
       "      <td>NORTHERN</td>\n",
       "      <td>NONE</td>\n",
       "      <td>300 Block of GOUGH ST</td>\n",
       "      <td>-122.422767</td>\n",
       "      <td>37.776192</td>\n",
       "      <td>{'latitude': '37.77619162146718', 'needs_recod...</td>\n",
       "      <td>18035374906244</td>\n",
       "      <td>3.0</td>\n",
       "    </tr>\n",
       "    <tr>\n",
       "      <th>2214566</th>\n",
       "      <td>180353852</td>\n",
       "      <td>LARCENY/THEFT</td>\n",
       "      <td>GRAND THEFT FROM LOCKED AUTO</td>\n",
       "      <td>Friday</td>\n",
       "      <td>2018-05-11T00:00:00</td>\n",
       "      <td>15:42</td>\n",
       "      <td>CENTRAL</td>\n",
       "      <td>NONE</td>\n",
       "      <td>THE EMBARCADERONORTH ST / DAVIS ST</td>\n",
       "      <td>-122.398862</td>\n",
       "      <td>37.800781</td>\n",
       "      <td>{'latitude': '37.800780999713545', 'needs_reco...</td>\n",
       "      <td>18035385206244</td>\n",
       "      <td>3.0</td>\n",
       "    </tr>\n",
       "    <tr>\n",
       "      <th>2214571</th>\n",
       "      <td>180354606</td>\n",
       "      <td>LARCENY/THEFT</td>\n",
       "      <td>GRAND THEFT FROM LOCKED AUTO</td>\n",
       "      <td>Friday</td>\n",
       "      <td>2018-05-11T00:00:00</td>\n",
       "      <td>23:00</td>\n",
       "      <td>SOUTHERN</td>\n",
       "      <td>NONE</td>\n",
       "      <td>HOWARD ST / LANGTON ST</td>\n",
       "      <td>-122.409924</td>\n",
       "      <td>37.777553</td>\n",
       "      <td>{'latitude': '37.7775530955225', 'needs_recodi...</td>\n",
       "      <td>18035460606244</td>\n",
       "      <td>3.0</td>\n",
       "    </tr>\n",
       "    <tr>\n",
       "      <th>2214683</th>\n",
       "      <td>180354690</td>\n",
       "      <td>LARCENY/THEFT</td>\n",
       "      <td>GRAND THEFT FROM LOCKED AUTO</td>\n",
       "      <td>Saturday</td>\n",
       "      <td>2018-05-12T00:00:00</td>\n",
       "      <td>15:30</td>\n",
       "      <td>SOUTHERN</td>\n",
       "      <td>NONE</td>\n",
       "      <td>HARRISON ST / SPEAR ST</td>\n",
       "      <td>-122.389433</td>\n",
       "      <td>37.788838</td>\n",
       "      <td>{'latitude': '37.78883790561234', 'needs_recod...</td>\n",
       "      <td>18035469006244</td>\n",
       "      <td>3.0</td>\n",
       "    </tr>\n",
       "    <tr>\n",
       "      <th>2214726</th>\n",
       "      <td>180355234</td>\n",
       "      <td>LARCENY/THEFT</td>\n",
       "      <td>GRAND THEFT FROM LOCKED AUTO</td>\n",
       "      <td>Saturday</td>\n",
       "      <td>2018-05-12T00:00:00</td>\n",
       "      <td>17:20</td>\n",
       "      <td>NORTHERN</td>\n",
       "      <td>NONE</td>\n",
       "      <td>HAYES ST / VANNESS AV</td>\n",
       "      <td>-122.419698</td>\n",
       "      <td>37.777301</td>\n",
       "      <td>{'latitude': '37.77730095260028', 'needs_recod...</td>\n",
       "      <td>18035523406244</td>\n",
       "      <td>3.0</td>\n",
       "    </tr>\n",
       "    <tr>\n",
       "      <th>2214737</th>\n",
       "      <td>180355397</td>\n",
       "      <td>LARCENY/THEFT</td>\n",
       "      <td>GRAND THEFT FROM LOCKED AUTO</td>\n",
       "      <td>Saturday</td>\n",
       "      <td>2018-05-12T00:00:00</td>\n",
       "      <td>19:00</td>\n",
       "      <td>CENTRAL</td>\n",
       "      <td>NONE</td>\n",
       "      <td>LARKIN ST / BAY ST</td>\n",
       "      <td>-122.421819</td>\n",
       "      <td>37.804565</td>\n",
       "      <td>{'latitude': '37.80456518170461', 'needs_recod...</td>\n",
       "      <td>18035539706244</td>\n",
       "      <td>3.0</td>\n",
       "    </tr>\n",
       "    <tr>\n",
       "      <th>2214740</th>\n",
       "      <td>180355466</td>\n",
       "      <td>LARCENY/THEFT</td>\n",
       "      <td>GRAND THEFT FROM LOCKED AUTO</td>\n",
       "      <td>Saturday</td>\n",
       "      <td>2018-05-12T00:00:00</td>\n",
       "      <td>21:45</td>\n",
       "      <td>CENTRAL</td>\n",
       "      <td>NONE</td>\n",
       "      <td>BEACH ST / POLK ST</td>\n",
       "      <td>-122.423849</td>\n",
       "      <td>37.806221</td>\n",
       "      <td>{'latitude': '37.80622142699113', 'needs_recod...</td>\n",
       "      <td>18035546606244</td>\n",
       "      <td>3.0</td>\n",
       "    </tr>\n",
       "    <tr>\n",
       "      <th>2214745</th>\n",
       "      <td>180355535</td>\n",
       "      <td>LARCENY/THEFT</td>\n",
       "      <td>GRAND THEFT FROM LOCKED AUTO</td>\n",
       "      <td>Saturday</td>\n",
       "      <td>2018-05-12T00:00:00</td>\n",
       "      <td>20:45</td>\n",
       "      <td>TENDERLOIN</td>\n",
       "      <td>NONE</td>\n",
       "      <td>JONES ST / ELLIS ST</td>\n",
       "      <td>-122.412784</td>\n",
       "      <td>37.784866</td>\n",
       "      <td>{'latitude': '37.7848656939526', 'needs_recodi...</td>\n",
       "      <td>18035553506244</td>\n",
       "      <td>3.0</td>\n",
       "    </tr>\n",
       "    <tr>\n",
       "      <th>2214754</th>\n",
       "      <td>180356226</td>\n",
       "      <td>LARCENY/THEFT</td>\n",
       "      <td>GRAND THEFT FROM LOCKED AUTO</td>\n",
       "      <td>Saturday</td>\n",
       "      <td>2018-05-12T00:00:00</td>\n",
       "      <td>15:00</td>\n",
       "      <td>PARK</td>\n",
       "      <td>NONE</td>\n",
       "      <td>900 Block of CENTRAL AV</td>\n",
       "      <td>-122.445185</td>\n",
       "      <td>37.778379</td>\n",
       "      <td>{'latitude': '37.77837933667742', 'needs_recod...</td>\n",
       "      <td>18035622606244</td>\n",
       "      <td>3.0</td>\n",
       "    </tr>\n",
       "    <tr>\n",
       "      <th>2214790</th>\n",
       "      <td>180355808</td>\n",
       "      <td>LARCENY/THEFT</td>\n",
       "      <td>GRAND THEFT FROM LOCKED AUTO</td>\n",
       "      <td>Sunday</td>\n",
       "      <td>2018-05-13T00:00:00</td>\n",
       "      <td>02:30</td>\n",
       "      <td>TENDERLOIN</td>\n",
       "      <td>NONE</td>\n",
       "      <td>400 Block of JONES ST</td>\n",
       "      <td>-122.412759</td>\n",
       "      <td>37.785096</td>\n",
       "      <td>{'latitude': '37.785096096372605', 'needs_reco...</td>\n",
       "      <td>18035580806244</td>\n",
       "      <td>3.0</td>\n",
       "    </tr>\n",
       "    <tr>\n",
       "      <th>2214833</th>\n",
       "      <td>180356555</td>\n",
       "      <td>LARCENY/THEFT</td>\n",
       "      <td>GRAND THEFT FROM LOCKED AUTO</td>\n",
       "      <td>Sunday</td>\n",
       "      <td>2018-05-13T00:00:00</td>\n",
       "      <td>10:00</td>\n",
       "      <td>CENTRAL</td>\n",
       "      <td>NONE</td>\n",
       "      <td>0 Block of CHESTNUT ST</td>\n",
       "      <td>-122.404231</td>\n",
       "      <td>37.804938</td>\n",
       "      <td>{'latitude': '37.804937543475255', 'needs_reco...</td>\n",
       "      <td>18035655506244</td>\n",
       "      <td>3.0</td>\n",
       "    </tr>\n",
       "    <tr>\n",
       "      <th>2214869</th>\n",
       "      <td>180357014</td>\n",
       "      <td>LARCENY/THEFT</td>\n",
       "      <td>GRAND THEFT FROM LOCKED AUTO</td>\n",
       "      <td>Sunday</td>\n",
       "      <td>2018-05-13T00:00:00</td>\n",
       "      <td>14:00</td>\n",
       "      <td>NORTHERN</td>\n",
       "      <td>NONE</td>\n",
       "      <td>WEBSTER ST / GREENWICH ST</td>\n",
       "      <td>-122.434228</td>\n",
       "      <td>37.799160</td>\n",
       "      <td>{'latitude': '37.79915966103936', 'needs_recod...</td>\n",
       "      <td>18035701406244</td>\n",
       "      <td>3.0</td>\n",
       "    </tr>\n",
       "    <tr>\n",
       "      <th>2214871</th>\n",
       "      <td>180357058</td>\n",
       "      <td>LARCENY/THEFT</td>\n",
       "      <td>GRAND THEFT FROM LOCKED AUTO</td>\n",
       "      <td>Sunday</td>\n",
       "      <td>2018-05-13T00:00:00</td>\n",
       "      <td>14:00</td>\n",
       "      <td>PARK</td>\n",
       "      <td>NONE</td>\n",
       "      <td>HAIGHT ST / MASONIC AV</td>\n",
       "      <td>-122.445347</td>\n",
       "      <td>37.770208</td>\n",
       "      <td>{'latitude': '37.770208195917206', 'needs_reco...</td>\n",
       "      <td>18035705806244</td>\n",
       "      <td>3.0</td>\n",
       "    </tr>\n",
       "    <tr>\n",
       "      <th>2214888</th>\n",
       "      <td>180357246</td>\n",
       "      <td>LARCENY/THEFT</td>\n",
       "      <td>GRAND THEFT FROM LOCKED AUTO</td>\n",
       "      <td>Sunday</td>\n",
       "      <td>2018-05-13T00:00:00</td>\n",
       "      <td>12:15</td>\n",
       "      <td>SOUTHERN</td>\n",
       "      <td>NONE</td>\n",
       "      <td>400 Block of SPEAR ST</td>\n",
       "      <td>-122.388888</td>\n",
       "      <td>37.788328</td>\n",
       "      <td>{'latitude': '37.78832797101324', 'needs_recod...</td>\n",
       "      <td>18035724606244</td>\n",
       "      <td>3.0</td>\n",
       "    </tr>\n",
       "    <tr>\n",
       "      <th>2214905</th>\n",
       "      <td>180357484</td>\n",
       "      <td>LARCENY/THEFT</td>\n",
       "      <td>GRAND THEFT FROM LOCKED AUTO</td>\n",
       "      <td>Sunday</td>\n",
       "      <td>2018-05-13T00:00:00</td>\n",
       "      <td>17:30</td>\n",
       "      <td>RICHMOND</td>\n",
       "      <td>NONE</td>\n",
       "      <td>2ND AV / FULTON ST</td>\n",
       "      <td>-122.459487</td>\n",
       "      <td>37.774166</td>\n",
       "      <td>{'latitude': '37.774165824460496', 'needs_reco...</td>\n",
       "      <td>18035748406244</td>\n",
       "      <td>3.0</td>\n",
       "    </tr>\n",
       "    <tr>\n",
       "      <th>2214927</th>\n",
       "      <td>180357923</td>\n",
       "      <td>LARCENY/THEFT</td>\n",
       "      <td>GRAND THEFT FROM LOCKED AUTO</td>\n",
       "      <td>Sunday</td>\n",
       "      <td>2018-05-13T00:00:00</td>\n",
       "      <td>21:45</td>\n",
       "      <td>NORTHERN</td>\n",
       "      <td>NONE</td>\n",
       "      <td>0 Block of HEMLOCK ST</td>\n",
       "      <td>-122.419203</td>\n",
       "      <td>37.787438</td>\n",
       "      <td>{'latitude': '37.78743783091122', 'needs_recod...</td>\n",
       "      <td>18035792306244</td>\n",
       "      <td>3.0</td>\n",
       "    </tr>\n",
       "    <tr>\n",
       "      <th>2214965</th>\n",
       "      <td>180358921</td>\n",
       "      <td>LARCENY/THEFT</td>\n",
       "      <td>GRAND THEFT FROM LOCKED AUTO</td>\n",
       "      <td>Monday</td>\n",
       "      <td>2018-05-14T00:00:00</td>\n",
       "      <td>12:10</td>\n",
       "      <td>NORTHERN</td>\n",
       "      <td>NONE</td>\n",
       "      <td>2300 Block of BAY ST</td>\n",
       "      <td>-122.445738</td>\n",
       "      <td>37.801574</td>\n",
       "      <td>{'latitude': '37.8015741248208', 'needs_recodi...</td>\n",
       "      <td>18035892106244</td>\n",
       "      <td>3.0</td>\n",
       "    </tr>\n",
       "    <tr>\n",
       "      <th>2215006</th>\n",
       "      <td>180360540</td>\n",
       "      <td>LARCENY/THEFT</td>\n",
       "      <td>GRAND THEFT FROM LOCKED AUTO</td>\n",
       "      <td>Monday</td>\n",
       "      <td>2018-05-14T00:00:00</td>\n",
       "      <td>19:15</td>\n",
       "      <td>RICHMOND</td>\n",
       "      <td>NONE</td>\n",
       "      <td>8TH AV / CLEMENT ST</td>\n",
       "      <td>-122.466565</td>\n",
       "      <td>37.782849</td>\n",
       "      <td>{'latitude': '37.782849155153016', 'needs_reco...</td>\n",
       "      <td>18036054006244</td>\n",
       "      <td>3.0</td>\n",
       "    </tr>\n",
       "    <tr>\n",
       "      <th>2215011</th>\n",
       "      <td>180360700</td>\n",
       "      <td>LARCENY/THEFT</td>\n",
       "      <td>GRAND THEFT FROM LOCKED AUTO</td>\n",
       "      <td>Monday</td>\n",
       "      <td>2018-05-14T00:00:00</td>\n",
       "      <td>21:30</td>\n",
       "      <td>SOUTHERN</td>\n",
       "      <td>NONE</td>\n",
       "      <td>11TH ST / FOLSOM ST</td>\n",
       "      <td>-122.414027</td>\n",
       "      <td>37.771864</td>\n",
       "      <td>{'latitude': '37.77186361771543', 'needs_recod...</td>\n",
       "      <td>18036070006244</td>\n",
       "      <td>3.0</td>\n",
       "    </tr>\n",
       "  </tbody>\n",
       "</table>\n",
       "<p>178835 rows × 14 columns</p>\n",
       "</div>"
      ],
      "text/plain": [
       "         IncidntNum       Category                      Descript  DayOfWeek  \\\n",
       "10         60027038  LARCENY/THEFT  GRAND THEFT FROM LOCKED AUTO   Saturday   \n",
       "16         96043222  LARCENY/THEFT  GRAND THEFT FROM LOCKED AUTO    Tuesday   \n",
       "17         60435237  LARCENY/THEFT  GRAND THEFT FROM LOCKED AUTO     Sunday   \n",
       "19        106159858  LARCENY/THEFT  GRAND THEFT FROM LOCKED AUTO  Wednesday   \n",
       "27         40432708  LARCENY/THEFT  GRAND THEFT FROM LOCKED AUTO   Thursday   \n",
       "58         66088640  LARCENY/THEFT  GRAND THEFT FROM LOCKED AUTO  Wednesday   \n",
       "91         86004739  LARCENY/THEFT  GRAND THEFT FROM LOCKED AUTO   Thursday   \n",
       "105        60031534  LARCENY/THEFT  GRAND THEFT FROM LOCKED AUTO  Wednesday   \n",
       "120        70767638  LARCENY/THEFT  GRAND THEFT FROM LOCKED AUTO     Sunday   \n",
       "141       106072608  LARCENY/THEFT  GRAND THEFT FROM LOCKED AUTO   Saturday   \n",
       "142        86032398  LARCENY/THEFT  GRAND THEFT FROM LOCKED AUTO   Saturday   \n",
       "165        50380971  LARCENY/THEFT  GRAND THEFT FROM LOCKED AUTO  Wednesday   \n",
       "172        41022293  LARCENY/THEFT  GRAND THEFT FROM LOCKED AUTO   Saturday   \n",
       "199        41022873  LARCENY/THEFT  GRAND THEFT FROM LOCKED AUTO    Tuesday   \n",
       "202       126191288  LARCENY/THEFT  GRAND THEFT FROM LOCKED AUTO   Thursday   \n",
       "238       146006413  LARCENY/THEFT  GRAND THEFT FROM LOCKED AUTO    Tuesday   \n",
       "248       116044681  LARCENY/THEFT  GRAND THEFT FROM LOCKED AUTO   Thursday   \n",
       "252       146248245  LARCENY/THEFT  GRAND THEFT FROM LOCKED AUTO     Monday   \n",
       "259       136121968  LARCENY/THEFT  GRAND THEFT FROM LOCKED AUTO   Thursday   \n",
       "263       136223097  LARCENY/THEFT  GRAND THEFT FROM LOCKED AUTO  Wednesday   \n",
       "289       110832995  LARCENY/THEFT  GRAND THEFT FROM LOCKED AUTO   Saturday   \n",
       "293       106013389  LARCENY/THEFT  GRAND THEFT FROM LOCKED AUTO  Wednesday   \n",
       "301       106008164  LARCENY/THEFT  GRAND THEFT FROM LOCKED AUTO  Wednesday   \n",
       "302        31135759  LARCENY/THEFT  GRAND THEFT FROM LOCKED AUTO   Thursday   \n",
       "318       106132280  LARCENY/THEFT  GRAND THEFT FROM LOCKED AUTO     Monday   \n",
       "336        96074879  LARCENY/THEFT  GRAND THEFT FROM LOCKED AUTO    Tuesday   \n",
       "341       136123936  LARCENY/THEFT  GRAND THEFT FROM LOCKED AUTO  Wednesday   \n",
       "369       106031842  LARCENY/THEFT  GRAND THEFT FROM LOCKED AUTO     Monday   \n",
       "381       100551230  LARCENY/THEFT  GRAND THEFT FROM LOCKED AUTO   Saturday   \n",
       "426        80529092  LARCENY/THEFT  GRAND THEFT FROM LOCKED AUTO    Tuesday   \n",
       "...             ...            ...                           ...        ...   \n",
       "2214315   180349942  LARCENY/THEFT  GRAND THEFT FROM LOCKED AUTO   Thursday   \n",
       "2214326   180350096  LARCENY/THEFT  GRAND THEFT FROM LOCKED AUTO   Thursday   \n",
       "2214339   180350400  LARCENY/THEFT  GRAND THEFT FROM LOCKED AUTO   Thursday   \n",
       "2214361   186106926  LARCENY/THEFT  GRAND THEFT FROM LOCKED AUTO   Thursday   \n",
       "2214362   186106960  LARCENY/THEFT  GRAND THEFT FROM LOCKED AUTO   Thursday   \n",
       "2214368   186107128  LARCENY/THEFT  GRAND THEFT FROM LOCKED AUTO   Thursday   \n",
       "2214370   180350262  LARCENY/THEFT  GRAND THEFT FROM LOCKED AUTO     Friday   \n",
       "2214454   180351395  LARCENY/THEFT  GRAND THEFT FROM LOCKED AUTO     Friday   \n",
       "2214532   180352622  LARCENY/THEFT  GRAND THEFT FROM LOCKED AUTO     Friday   \n",
       "2214558   180352973  LARCENY/THEFT  GRAND THEFT FROM LOCKED AUTO     Friday   \n",
       "2214562   180353307  LARCENY/THEFT  GRAND THEFT FROM LOCKED AUTO     Friday   \n",
       "2214564   180353749  LARCENY/THEFT  GRAND THEFT FROM LOCKED AUTO     Friday   \n",
       "2214566   180353852  LARCENY/THEFT  GRAND THEFT FROM LOCKED AUTO     Friday   \n",
       "2214571   180354606  LARCENY/THEFT  GRAND THEFT FROM LOCKED AUTO     Friday   \n",
       "2214683   180354690  LARCENY/THEFT  GRAND THEFT FROM LOCKED AUTO   Saturday   \n",
       "2214726   180355234  LARCENY/THEFT  GRAND THEFT FROM LOCKED AUTO   Saturday   \n",
       "2214737   180355397  LARCENY/THEFT  GRAND THEFT FROM LOCKED AUTO   Saturday   \n",
       "2214740   180355466  LARCENY/THEFT  GRAND THEFT FROM LOCKED AUTO   Saturday   \n",
       "2214745   180355535  LARCENY/THEFT  GRAND THEFT FROM LOCKED AUTO   Saturday   \n",
       "2214754   180356226  LARCENY/THEFT  GRAND THEFT FROM LOCKED AUTO   Saturday   \n",
       "2214790   180355808  LARCENY/THEFT  GRAND THEFT FROM LOCKED AUTO     Sunday   \n",
       "2214833   180356555  LARCENY/THEFT  GRAND THEFT FROM LOCKED AUTO     Sunday   \n",
       "2214869   180357014  LARCENY/THEFT  GRAND THEFT FROM LOCKED AUTO     Sunday   \n",
       "2214871   180357058  LARCENY/THEFT  GRAND THEFT FROM LOCKED AUTO     Sunday   \n",
       "2214888   180357246  LARCENY/THEFT  GRAND THEFT FROM LOCKED AUTO     Sunday   \n",
       "2214905   180357484  LARCENY/THEFT  GRAND THEFT FROM LOCKED AUTO     Sunday   \n",
       "2214927   180357923  LARCENY/THEFT  GRAND THEFT FROM LOCKED AUTO     Sunday   \n",
       "2214965   180358921  LARCENY/THEFT  GRAND THEFT FROM LOCKED AUTO     Monday   \n",
       "2215006   180360540  LARCENY/THEFT  GRAND THEFT FROM LOCKED AUTO     Monday   \n",
       "2215011   180360700  LARCENY/THEFT  GRAND THEFT FROM LOCKED AUTO     Monday   \n",
       "\n",
       "                        Date   Time  PdDistrict     Resolution  \\\n",
       "10       2006-01-07T00:00:00  22:00    NORTHERN           NONE   \n",
       "16       2009-06-16T00:00:00  22:00     TARAVAL           NONE   \n",
       "17       2006-04-23T00:00:00  21:00   INGLESIDE           NONE   \n",
       "19       2010-12-15T00:00:00  17:45    RICHMOND           NONE   \n",
       "27       2004-04-15T00:00:00  15:00    SOUTHERN           NONE   \n",
       "58       2006-12-06T00:00:00  00:05    SOUTHERN           NONE   \n",
       "91       2008-01-17T00:00:00  01:40    SOUTHERN           NONE   \n",
       "105      2006-01-04T00:00:00  18:30    SOUTHERN           NONE   \n",
       "120      2007-07-29T00:00:00  12:30    SOUTHERN           NONE   \n",
       "141      2010-06-12T00:00:00  13:30    SOUTHERN           NONE   \n",
       "142      2008-04-26T00:00:00  14:00     CENTRAL           NONE   \n",
       "165      2005-04-06T00:00:00  18:30    SOUTHERN           NONE   \n",
       "172      2004-09-04T00:00:00  23:00    SOUTHERN           NONE   \n",
       "199      2004-09-07T00:00:00  11:15     MISSION           NONE   \n",
       "202      2012-11-29T00:00:00  07:45     CENTRAL           NONE   \n",
       "238      2014-01-07T00:00:00  18:30    RICHMOND           NONE   \n",
       "248      2011-04-07T00:00:00  13:00    SOUTHERN           NONE   \n",
       "252      2014-11-24T00:00:00  08:40    NORTHERN           NONE   \n",
       "259      2013-07-11T00:00:00  18:00     CENTRAL           NONE   \n",
       "263      2013-11-06T00:00:00  17:45     BAYVIEW           NONE   \n",
       "289      2011-10-15T00:00:00  20:43    SOUTHERN  ARREST, CITED   \n",
       "293      2010-01-27T00:00:00  18:20    SOUTHERN           NONE   \n",
       "301      2010-01-13T00:00:00  20:00        PARK           NONE   \n",
       "302      2003-09-25T00:00:00  23:15    NORTHERN           NONE   \n",
       "318      2010-10-18T00:00:00  00:01    NORTHERN           NONE   \n",
       "336      2009-08-25T00:00:00  16:45    NORTHERN           NONE   \n",
       "341      2013-07-17T00:00:00  18:00     BAYVIEW           NONE   \n",
       "369      2010-03-15T00:00:00  12:00   INGLESIDE           NONE   \n",
       "381      2010-06-12T00:00:00  01:00     CENTRAL           NONE   \n",
       "426      2008-05-20T00:00:00  21:30    NORTHERN           NONE   \n",
       "...                      ...    ...         ...            ...   \n",
       "2214315  2018-05-10T00:00:00  21:30     CENTRAL           NONE   \n",
       "2214326  2018-05-10T00:00:00  18:00  TENDERLOIN           NONE   \n",
       "2214339  2018-05-10T00:00:00  23:00    NORTHERN           NONE   \n",
       "2214361  2018-05-10T00:00:00  19:00     MISSION           NONE   \n",
       "2214362  2018-05-10T00:00:00  08:00     MISSION           NONE   \n",
       "2214368  2018-05-10T00:00:00  21:30     CENTRAL           NONE   \n",
       "2214370  2018-05-11T00:00:00  00:30     CENTRAL           NONE   \n",
       "2214454  2018-05-11T00:00:00  11:00    NORTHERN           NONE   \n",
       "2214532  2018-05-11T00:00:00  18:50    NORTHERN           NONE   \n",
       "2214558  2018-05-11T00:00:00  23:30    SOUTHERN           NONE   \n",
       "2214562  2018-05-11T00:00:00  21:45    SOUTHERN           NONE   \n",
       "2214564  2018-05-11T00:00:00  18:15    NORTHERN           NONE   \n",
       "2214566  2018-05-11T00:00:00  15:42     CENTRAL           NONE   \n",
       "2214571  2018-05-11T00:00:00  23:00    SOUTHERN           NONE   \n",
       "2214683  2018-05-12T00:00:00  15:30    SOUTHERN           NONE   \n",
       "2214726  2018-05-12T00:00:00  17:20    NORTHERN           NONE   \n",
       "2214737  2018-05-12T00:00:00  19:00     CENTRAL           NONE   \n",
       "2214740  2018-05-12T00:00:00  21:45     CENTRAL           NONE   \n",
       "2214745  2018-05-12T00:00:00  20:45  TENDERLOIN           NONE   \n",
       "2214754  2018-05-12T00:00:00  15:00        PARK           NONE   \n",
       "2214790  2018-05-13T00:00:00  02:30  TENDERLOIN           NONE   \n",
       "2214833  2018-05-13T00:00:00  10:00     CENTRAL           NONE   \n",
       "2214869  2018-05-13T00:00:00  14:00    NORTHERN           NONE   \n",
       "2214871  2018-05-13T00:00:00  14:00        PARK           NONE   \n",
       "2214888  2018-05-13T00:00:00  12:15    SOUTHERN           NONE   \n",
       "2214905  2018-05-13T00:00:00  17:30    RICHMOND           NONE   \n",
       "2214927  2018-05-13T00:00:00  21:45    NORTHERN           NONE   \n",
       "2214965  2018-05-14T00:00:00  12:10    NORTHERN           NONE   \n",
       "2215006  2018-05-14T00:00:00  19:15    RICHMOND           NONE   \n",
       "2215011  2018-05-14T00:00:00  21:30    SOUTHERN           NONE   \n",
       "\n",
       "                                         Address           X          Y  \\\n",
       "10                       100 Block of HEMLOCK ST -122.420815  37.787236   \n",
       "16                       1600 Block of GREAT HWY -122.508797  37.756259   \n",
       "17                        TIFFANY AV / DUNCAN ST -122.420132  37.746575   \n",
       "19                   1000 Block of POINTLOBOS AV -122.513642  37.778469   \n",
       "27                        900 Block of BRYANT ST -122.406730  37.772637   \n",
       "58                      WASHBURN ST / MISSION ST -122.415131  37.775889   \n",
       "91                            HOWARD ST / 2ND ST -122.398262  37.786779   \n",
       "105                        300 Block of SPEAR ST -122.390136  37.789481   \n",
       "120                       800 Block of BRYANT ST -122.403405  37.775421   \n",
       "141                        SPEAR ST / MISSION ST -122.394065  37.792538   \n",
       "142                      FILBERT ST / SANSOME ST -122.402976  37.802168   \n",
       "165                      500 Block of BRANNAN ST -122.397713  37.777470   \n",
       "172                         400 Block of 10TH ST -122.410541  37.770913   \n",
       "199                        19TH ST / VALENCIA ST -122.421426  37.760102   \n",
       "202      THE EMBARCADERONORTH ST / WASHINGTON ST -122.395330  37.796665   \n",
       "238            9TH AV / MARTIN LUTHER KING JR DR -122.466430  37.766474   \n",
       "248        THE EMBARCADEROSOUTH ST / HARRISON ST -122.388486  37.789573   \n",
       "252                        WEBSTER ST / GEARY BL -122.431207  37.784568   \n",
       "259                          300 Block of BAY ST -122.412804  37.805774   \n",
       "263                    400 Block of BAY SHORE BL -122.406844  37.739401   \n",
       "289                      1300 Block of FOLSOM ST -122.411966  37.773566   \n",
       "293                      1100 Block of BRYANT ST -122.408881  37.771095   \n",
       "301                           0 Block of IRON AL -122.444675  37.758099   \n",
       "302                    BUCHANAN ST / MAGNOLIA ST -122.432864  37.800772   \n",
       "318                      POLK ST / WASHINGTON ST -122.421232  37.793257   \n",
       "336                     2400 Block of LOMBARD ST -122.441812  37.799002   \n",
       "341                    MARIPOSA ST / ILLINOIS ST -122.387921  37.764379   \n",
       "369                        200 Block of JOOST AV -122.440910  37.732417   \n",
       "381                  1200 Block of WASHINGTON ST -122.413834  37.794159   \n",
       "426                     1200 Block of VANNESS AV -122.421442  37.786852   \n",
       "...                                          ...         ...        ...   \n",
       "2214315                NORTHPOINT ST / LARKIN ST -122.422009  37.805496   \n",
       "2214326                    FULTON ST / LARKIN ST -122.416770  37.779585   \n",
       "2214339                 1300 Block of WEBSTER ST -122.431046  37.783030   \n",
       "2214361                 2000 Block of MISSION ST -122.419658  37.764221   \n",
       "2214362                      18TH ST / CHURCH ST -122.428355  37.761258   \n",
       "2214368                    800 Block of BEACH ST -122.423025  37.806273   \n",
       "2214370                       JONES ST / POST ST -122.413358  37.787664   \n",
       "2214454                 1000 Block of VANNESS AV -122.421483  37.785442   \n",
       "2214532                     600 Block of EDDY ST -122.418360  37.783150   \n",
       "2214558                      BRYANT ST / DORE ST -122.409138  37.770819   \n",
       "2214562                  400 Block of BRANNAN ST -122.395986  37.778835   \n",
       "2214564                    300 Block of GOUGH ST -122.422767  37.776192   \n",
       "2214566       THE EMBARCADERONORTH ST / DAVIS ST -122.398862  37.800781   \n",
       "2214571                   HOWARD ST / LANGTON ST -122.409924  37.777553   \n",
       "2214683                   HARRISON ST / SPEAR ST -122.389433  37.788838   \n",
       "2214726                    HAYES ST / VANNESS AV -122.419698  37.777301   \n",
       "2214737                       LARKIN ST / BAY ST -122.421819  37.804565   \n",
       "2214740                       BEACH ST / POLK ST -122.423849  37.806221   \n",
       "2214745                      JONES ST / ELLIS ST -122.412784  37.784866   \n",
       "2214754                  900 Block of CENTRAL AV -122.445185  37.778379   \n",
       "2214790                    400 Block of JONES ST -122.412759  37.785096   \n",
       "2214833                   0 Block of CHESTNUT ST -122.404231  37.804938   \n",
       "2214869                WEBSTER ST / GREENWICH ST -122.434228  37.799160   \n",
       "2214871                   HAIGHT ST / MASONIC AV -122.445347  37.770208   \n",
       "2214888                    400 Block of SPEAR ST -122.388888  37.788328   \n",
       "2214905                       2ND AV / FULTON ST -122.459487  37.774166   \n",
       "2214927                    0 Block of HEMLOCK ST -122.419203  37.787438   \n",
       "2214965                     2300 Block of BAY ST -122.445738  37.801574   \n",
       "2215006                      8TH AV / CLEMENT ST -122.466565  37.782849   \n",
       "2215011                      11TH ST / FOLSOM ST -122.414027  37.771864   \n",
       "\n",
       "                                                  Location            PdId  \\\n",
       "10       {'latitude': '37.7872360476925', 'needs_recodi...   6002703806244   \n",
       "16       {'latitude': '37.7562590463517', 'needs_recodi...   9604322206244   \n",
       "17       {'latitude': '37.7465750465073', 'needs_recodi...   6043523706244   \n",
       "19       {'latitude': '37.7784692199467', 'needs_recodi...  10615985806244   \n",
       "27       {'latitude': '37.7726367624181', 'needs_recodi...   4043270806244   \n",
       "58       {'latitude': '37.7758891459127', 'needs_recodi...   6608864006244   \n",
       "91       {'latitude': '37.7867787589097', 'needs_recodi...   8600473906244   \n",
       "105      {'latitude': '37.7894806825431', 'needs_recodi...   6003153406244   \n",
       "120      {'latitude': '37.775420706711', 'needs_recodin...   7076763806244   \n",
       "141      {'latitude': '37.792537817505', 'needs_recodin...  10607260806244   \n",
       "142      {'latitude': '37.8021677968656', 'needs_recodi...   8603239806244   \n",
       "165      {'latitude': '37.7774696662398', 'needs_recodi...   5038097106244   \n",
       "172      {'latitude': '37.7709130566165', 'needs_recodi...   4102229306244   \n",
       "199      {'latitude': '37.760101797057', 'needs_recodin...   4102287306244   \n",
       "202      {'latitude': '37.7966652983014', 'needs_recodi...  12619128806244   \n",
       "238      {'latitude': '37.7664741386096', 'needs_recodi...  14600641306244   \n",
       "248      {'latitude': '37.789572762563', 'needs_recodin...  11604468106244   \n",
       "252      {'latitude': '37.7845681170336', 'needs_recodi...  14624824506244   \n",
       "259      {'latitude': '37.8057739875696', 'needs_recodi...  13612196806244   \n",
       "263      {'latitude': '37.7394012528109', 'needs_recodi...  13622309706244   \n",
       "289      {'latitude': '37.773566042081', 'needs_recodin...  11083299506244   \n",
       "293      {'latitude': '37.771094695464', 'needs_recodin...  10601338906244   \n",
       "301      {'latitude': '37.7580987015771', 'needs_recodi...  10600816406244   \n",
       "302      {'latitude': '37.8007724795702', 'needs_recodi...   3113575906244   \n",
       "318      {'latitude': '37.7932574953959', 'needs_recodi...  10613228006244   \n",
       "336      {'latitude': '37.7990019436809', 'needs_recodi...   9607487906244   \n",
       "341      {'latitude': '37.7643790292129', 'needs_recodi...  13612393606244   \n",
       "369      {'latitude': '37.7324172771969', 'needs_recodi...  10603184206244   \n",
       "381      {'latitude': '37.7941589668687', 'needs_recodi...  10055123006244   \n",
       "426      {'latitude': '37.7868516471087', 'needs_recodi...   8052909206244   \n",
       "...                                                    ...             ...   \n",
       "2214315  {'latitude': '37.80549602764779', 'needs_recod...  18034994206244   \n",
       "2214326  {'latitude': '37.77958457766739', 'needs_recod...  18035009606244   \n",
       "2214339  {'latitude': '37.78302957160442', 'needs_recod...  18035040006244   \n",
       "2214361  {'latitude': '37.76422056037451', 'needs_recod...  18610692606244   \n",
       "2214362  {'latitude': '37.76125771134144', 'needs_recod...  18610696006244   \n",
       "2214368  {'latitude': '37.806272872054215', 'needs_reco...  18610712806244   \n",
       "2214370  {'latitude': '37.78766371957205', 'needs_recod...  18035026206244   \n",
       "2214454  {'latitude': '37.785442187265524', 'needs_reco...  18035139506244   \n",
       "2214532  {'latitude': '37.78314989782107', 'needs_recod...  18035262206244   \n",
       "2214558  {'latitude': '37.770819410044915', 'needs_reco...  18035297306244   \n",
       "2214562  {'latitude': '37.77883482056823', 'needs_recod...  18035330706244   \n",
       "2214564  {'latitude': '37.77619162146718', 'needs_recod...  18035374906244   \n",
       "2214566  {'latitude': '37.800780999713545', 'needs_reco...  18035385206244   \n",
       "2214571  {'latitude': '37.7775530955225', 'needs_recodi...  18035460606244   \n",
       "2214683  {'latitude': '37.78883790561234', 'needs_recod...  18035469006244   \n",
       "2214726  {'latitude': '37.77730095260028', 'needs_recod...  18035523406244   \n",
       "2214737  {'latitude': '37.80456518170461', 'needs_recod...  18035539706244   \n",
       "2214740  {'latitude': '37.80622142699113', 'needs_recod...  18035546606244   \n",
       "2214745  {'latitude': '37.7848656939526', 'needs_recodi...  18035553506244   \n",
       "2214754  {'latitude': '37.77837933667742', 'needs_recod...  18035622606244   \n",
       "2214790  {'latitude': '37.785096096372605', 'needs_reco...  18035580806244   \n",
       "2214833  {'latitude': '37.804937543475255', 'needs_reco...  18035655506244   \n",
       "2214869  {'latitude': '37.79915966103936', 'needs_recod...  18035701406244   \n",
       "2214871  {'latitude': '37.770208195917206', 'needs_reco...  18035705806244   \n",
       "2214888  {'latitude': '37.78832797101324', 'needs_recod...  18035724606244   \n",
       "2214905  {'latitude': '37.774165824460496', 'needs_reco...  18035748406244   \n",
       "2214927  {'latitude': '37.78743783091122', 'needs_recod...  18035792306244   \n",
       "2214965  {'latitude': '37.8015741248208', 'needs_recodi...  18035892106244   \n",
       "2215006  {'latitude': '37.782849155153016', 'needs_reco...  18036054006244   \n",
       "2215011  {'latitude': '37.77186361771543', 'needs_recod...  18036070006244   \n",
       "\n",
       "         crime_level  \n",
       "10               3.0  \n",
       "16               3.0  \n",
       "17               3.0  \n",
       "19               3.0  \n",
       "27               3.0  \n",
       "58               3.0  \n",
       "91               3.0  \n",
       "105              3.0  \n",
       "120              3.0  \n",
       "141              3.0  \n",
       "142              3.0  \n",
       "165              3.0  \n",
       "172              3.0  \n",
       "199              3.0  \n",
       "202              3.0  \n",
       "238              3.0  \n",
       "248              3.0  \n",
       "252              3.0  \n",
       "259              3.0  \n",
       "263              3.0  \n",
       "289              3.0  \n",
       "293              3.0  \n",
       "301              3.0  \n",
       "302              3.0  \n",
       "318              3.0  \n",
       "336              3.0  \n",
       "341              3.0  \n",
       "369              3.0  \n",
       "381              3.0  \n",
       "426              3.0  \n",
       "...              ...  \n",
       "2214315          3.0  \n",
       "2214326          3.0  \n",
       "2214339          3.0  \n",
       "2214361          3.0  \n",
       "2214362          3.0  \n",
       "2214368          3.0  \n",
       "2214370          3.0  \n",
       "2214454          3.0  \n",
       "2214532          3.0  \n",
       "2214558          3.0  \n",
       "2214562          3.0  \n",
       "2214564          3.0  \n",
       "2214566          3.0  \n",
       "2214571          3.0  \n",
       "2214683          3.0  \n",
       "2214726          3.0  \n",
       "2214737          3.0  \n",
       "2214740          3.0  \n",
       "2214745          3.0  \n",
       "2214754          3.0  \n",
       "2214790          3.0  \n",
       "2214833          3.0  \n",
       "2214869          3.0  \n",
       "2214871          3.0  \n",
       "2214888          3.0  \n",
       "2214905          3.0  \n",
       "2214927          3.0  \n",
       "2214965          3.0  \n",
       "2215006          3.0  \n",
       "2215011          3.0  \n",
       "\n",
       "[178835 rows x 14 columns]"
      ]
     },
     "execution_count": 22,
     "metadata": {},
     "output_type": "execute_result"
    }
   ],
   "source": [
    "df[df['Descript']== 'GRAND THEFT FROM LOCKED AUTO']\n",
    "# df[df['Descript'] == 'GRAND THEFT FROM LOCKED AUTO']\n",
    "# nulldf2 = df[df['crime_level'].isnull()]\n",
    "# nulldf2"
   ]
  },
  {
   "cell_type": "markdown",
   "metadata": {},
   "source": [
    "Create new column for \"Time of Day\", in 6 hour intervals"
   ]
  },
  {
   "cell_type": "code",
   "execution_count": 23,
   "metadata": {},
   "outputs": [],
   "source": [
    "df['morning'] = np.where((df.Time >= '06:00') & (df.Time <'12:00'), 1, 0)\n",
    "df['afternoon'] = np.where((df.Time >= '12:00') & (df.Time <'18:00'), 1, 0)\n",
    "df['night'] = np.where((df.Time >= '18:00') & (df.Time <'24:00'), 1, 0)\n",
    "df['late_night'] = np.where((df.Time >= '00:00') & (df.Time <'06:00'), 1, 0)"
   ]
  },
  {
   "cell_type": "code",
   "execution_count": 24,
   "metadata": {},
   "outputs": [],
   "source": [
    "# drop columns that will not be used in modeling\n",
    "df2 = df.drop(['IncidntNum', 'Category', 'Resolution', 'Descript', 'Date', 'Time', 'Address', 'X', 'Y', 'Location','PdId'], axis=1)"
   ]
  },
  {
   "cell_type": "markdown",
   "metadata": {},
   "source": [
    "Turn \"DayOfWeek\" and \"PdDistrict\" into Categorical Features using get_dummies "
   ]
  },
  {
   "cell_type": "code",
   "execution_count": 25,
   "metadata": {},
   "outputs": [],
   "source": [
    "df3 = pd.get_dummies(df2.DayOfWeek,drop_first=True)\n",
    "df4 = pd.get_dummies(df2.PdDistrict,drop_first=True)\n",
    "df5 = pd.concat([df2, df3, df4], axis=1)\n",
    "df5 = df5.drop(['DayOfWeek', 'PdDistrict'], axis=1)"
   ]
  },
  {
   "cell_type": "markdown",
   "metadata": {},
   "source": [
    "Column Keys:\n",
    "\n",
    "**Crime Levels:**(Target)  \n",
    "Level 1 - Serious,Violent,Priority OR Potential to Escalate  \n",
    "Level 3 - Non-Violent, Low Priority\n",
    "\n",
    "\n",
    "Features(Categorical):\n",
    "\n",
    "**Time of Day:**  \n",
    "Morning - 6am to 12pm  \n",
    "Afternoon - 12pm to 6pm  \n",
    "Night - 6pm to 12AM  \n",
    "Late Night - 12 AM to 6AM\n",
    "\n",
    "**Day of Week**  \n",
    "Monday, Tuesday, Wednesday, Thursday, Friday, Saturday,Sunday\n",
    "\n",
    "**Police Districts**  \n",
    "SOUTHERN     \n",
    "MISSION       \n",
    "NORTHERN      \n",
    "CENTRAL       \n",
    "BAYVIEW       \n",
    "INGLESIDE     \n",
    "TENDERLOIN    \n",
    "TARAVAL       \n",
    "PARK         \n",
    "RICHMOND"
   ]
  },
  {
   "cell_type": "markdown",
   "metadata": {},
   "source": [
    "CREATED SUBSET/HOLDOUT SET. Checked to see that the different classes were split up evenly "
   ]
  },
  {
   "cell_type": "code",
   "execution_count": 26,
   "metadata": {},
   "outputs": [],
   "source": [
    "np.random.seed(16)\n",
    "df_index = df5.index.unique()\n",
    "index_subset = np.random.choice(df_index, size = int(df_index.shape[0]*.5), replace = False)\n",
    "\n",
    "df_subset = df5[df5.index.isin(index_subset)]\n",
    "df_holdout = df5[np.logical_not(df5.index.isin(index_subset))]"
   ]
  },
  {
   "cell_type": "code",
   "execution_count": 27,
   "metadata": {},
   "outputs": [
    {
     "data": {
      "text/plain": [
       "3.0    826402\n",
       "1.0    281109\n",
       "Name: crime_level, dtype: int64"
      ]
     },
     "execution_count": 27,
     "metadata": {},
     "output_type": "execute_result"
    }
   ],
   "source": [
    "df_subset.crime_level.value_counts()"
   ]
  },
  {
   "cell_type": "code",
   "execution_count": 28,
   "metadata": {},
   "outputs": [
    {
     "data": {
      "text/plain": [
       "3.0    825465\n",
       "1.0    282047\n",
       "Name: crime_level, dtype: int64"
      ]
     },
     "execution_count": 28,
     "metadata": {},
     "output_type": "execute_result"
    }
   ],
   "source": [
    "df_holdout.crime_level.value_counts()"
   ]
  },
  {
   "cell_type": "code",
   "execution_count": 29,
   "metadata": {},
   "outputs": [],
   "source": [
    "y_sub = df_subset.crime_level"
   ]
  },
  {
   "cell_type": "code",
   "execution_count": 30,
   "metadata": {},
   "outputs": [],
   "source": [
    "X_sub = df_subset.drop('crime_level', axis=1)"
   ]
  },
  {
   "cell_type": "code",
   "execution_count": 31,
   "metadata": {},
   "outputs": [],
   "source": [
    "# holdout set X & Y\n",
    "y_holdout = df_holdout.crime_level\n",
    "X_holdout = df_holdout.drop('crime_level', axis=1)"
   ]
  },
  {
   "cell_type": "markdown",
   "metadata": {},
   "source": [
    "Run SMOTE and ADASYN to resample data to account for class imbalance. Previous modeling without applying SMOTE or ADASYN yielded worst results. Adjusting sample weight in the various models alone, without using SMOTE/ADASYN did not improve the results much. "
   ]
  },
  {
   "cell_type": "code",
   "execution_count": 33,
   "metadata": {},
   "outputs": [],
   "source": [
    "# ada = ADASYN(random_state=56,n_jobs=-1)\n",
    "# X_res, y_res = ada.fit_resample(X_sub, y_sub)"
   ]
  },
  {
   "cell_type": "code",
   "execution_count": 34,
   "metadata": {},
   "outputs": [],
   "source": [
    "sm = SMOTE(random_state=26, n_jobs=-1)\n",
    "X_res, y_res = sm.fit_resample(X_sub, y_sub)"
   ]
  },
  {
   "cell_type": "code",
   "execution_count": 126,
   "metadata": {},
   "outputs": [],
   "source": [
    "y_ho = df_holdout.crime_level\n",
    "X_ho = df_holdout.drop('crime_level', axis=1)"
   ]
  },
  {
   "cell_type": "code",
   "execution_count": 35,
   "metadata": {},
   "outputs": [],
   "source": [
    "# import pickle\n",
    "\n",
    "# with open('AdaXY.pkl', 'wb') as file:\n",
    "#     pickle.dump([X_res, y_res], file)\n",
    "#     file.close()"
   ]
  },
  {
   "cell_type": "code",
   "execution_count": 36,
   "metadata": {},
   "outputs": [],
   "source": [
    "# with open('AdaXY.pkl', 'rb') as file:\n",
    "#     X_Ada, Y_Ada = pickle.load(file)\n",
    "#     file.close()\n",
    "    \n",
    "# # print(f'this is foo {foo}, this is bar {bar}')\n",
    "# # remember to turn this back into a dataframe if applicable"
   ]
  },
  {
   "cell_type": "code",
   "execution_count": 37,
   "metadata": {},
   "outputs": [],
   "source": [
    "# X_res = X_Ada\n",
    "# y_res = Y_Ada"
   ]
  },
  {
   "cell_type": "markdown",
   "metadata": {},
   "source": [
    "Applied train_test_split with 20% test size"
   ]
  },
  {
   "cell_type": "code",
   "execution_count": 40,
   "metadata": {},
   "outputs": [],
   "source": [
    "X_train, X_test, Y_train, Y_test = train_test_split(X_res, y_res, stratify=y_res, test_size=0.2, random_state=36)"
   ]
  },
  {
   "cell_type": "markdown",
   "metadata": {},
   "source": [
    "The first model used was logistic regression, however, due to there being 3 classes, it was hard to get good interpretability. Code for logistic regression is at the bottom of this notebook. \n",
    "\n",
    "Second model applied was Naive Bayes (Gaussian, Bernouli, Multinomial). See below"
   ]
  },
  {
   "cell_type": "code",
   "execution_count": 41,
   "metadata": {},
   "outputs": [
    {
     "name": "stdout",
     "output_type": "stream",
     "text": [
      "Accuracy: 0.539\n",
      "              precision    recall  f1-score   support\n",
      "\n",
      "         1.0       0.54      0.58      0.56    165280\n",
      "         3.0       0.54      0.50      0.52    165281\n",
      "\n",
      "   micro avg       0.54      0.54      0.54    330561\n",
      "   macro avg       0.54      0.54      0.54    330561\n",
      "weighted avg       0.54      0.54      0.54    330561\n",
      "\n"
     ]
    }
   ],
   "source": [
    "# Gaussian NB with class_weight='balanced' set\n",
    "\n",
    "from sklearn import naive_bayes\n",
    "from sklearn.metrics import accuracy_score, classification_report\n",
    "from sklearn.utils.class_weight import compute_sample_weight\n",
    "\n",
    "# Standardize Data\n",
    "scaler = StandardScaler()\n",
    "X_tr = scaler.fit_transform(X_train)\n",
    "X_te = scaler.transform(X_test)\n",
    "\n",
    "model_GNB = naive_bayes.GaussianNB()\n",
    "model_GNB.fit(X_tr, Y_train, sample_weight=compute_sample_weight(class_weight='balanced', y=Y_train))\n",
    "\n",
    "print(\"Accuracy: %.3f\"% accuracy_score(Y_test, model_GNB.predict(X_te)))\n",
    "print(classification_report(Y_test, model_GNB.predict(X_te)))"
   ]
  },
  {
   "cell_type": "code",
   "execution_count": 145,
   "metadata": {},
   "outputs": [
    {
     "name": "stdout",
     "output_type": "stream",
     "text": [
      "Accuracy: 0.346\n",
      "              precision    recall  f1-score   support\n",
      "\n",
      "         1.0       0.26      0.88      0.41    282047\n",
      "         3.0       0.79      0.17      0.27    825465\n",
      "\n",
      "   micro avg       0.35      0.35      0.35   1107512\n",
      "   macro avg       0.53      0.52      0.34   1107512\n",
      "weighted avg       0.66      0.35      0.31   1107512\n",
      "\n"
     ]
    }
   ],
   "source": [
    "# Testing on HOLDOUT SET - Gaussian NB\n",
    "model_GNB.predict(X_ho)\n",
    "model_GNB.score(X_ho,y_ho)\n",
    "print(\"Accuracy: %.3f\"% accuracy_score(y_ho, model_GNB.predict(X_ho)))\n",
    "print(classification_report(y_ho, model_GNB.predict(X_ho)))"
   ]
  },
  {
   "cell_type": "code",
   "execution_count": 46,
   "metadata": {},
   "outputs": [
    {
     "name": "stdout",
     "output_type": "stream",
     "text": [
      "Accuracy: 0.521\n",
      "              precision    recall  f1-score   support\n",
      "\n",
      "         1.0       0.51      0.87      0.65    165280\n",
      "         3.0       0.57      0.17      0.26    165281\n",
      "\n",
      "   micro avg       0.52      0.52      0.52    330561\n",
      "   macro avg       0.54      0.52      0.45    330561\n",
      "weighted avg       0.54      0.52      0.45    330561\n",
      "\n"
     ]
    }
   ],
   "source": [
    "# Gaussian NB with class_weight arbitrarily set\n",
    "\n",
    "# Standardize Data\n",
    "scaler = StandardScaler()\n",
    "X_tr = scaler.fit_transform(X_train)\n",
    "X_te = scaler.transform(X_test)\n",
    "\n",
    "model_GNB = naive_bayes.GaussianNB()\n",
    "model_GNB.fit(X_tr, Y_train, sample_weight=compute_sample_weight(class_weight={1:3, 3:1}, y=Y_train))\n",
    "\n",
    "print(\"Accuracy: %.3f\"% accuracy_score(Y_test, model_GNB.predict(X_te)))\n",
    "print(classification_report(Y_test, model_GNB.predict(X_te)))"
   ]
  },
  {
   "cell_type": "code",
   "execution_count": 43,
   "metadata": {},
   "outputs": [
    {
     "name": "stdout",
     "output_type": "stream",
     "text": [
      "Accuracy: 0.541\n",
      "              precision    recall  f1-score   support\n",
      "\n",
      "         1.0       0.55      0.47      0.50    165280\n",
      "         3.0       0.54      0.61      0.57    165281\n",
      "\n",
      "   micro avg       0.54      0.54      0.54    330561\n",
      "   macro avg       0.54      0.54      0.54    330561\n",
      "weighted avg       0.54      0.54      0.54    330561\n",
      "\n"
     ]
    }
   ],
   "source": [
    "#Bernouli NB\n",
    "\n",
    "# Standardize Data\n",
    "scaler = StandardScaler()\n",
    "X_tr = scaler.fit_transform(X_train)\n",
    "X_te = scaler.transform(X_test)\n",
    "\n",
    "model_BNB = naive_bayes.BernoulliNB(fit_prior=False)\n",
    "model_BNB.fit(X_tr, Y_train, sample_weight=compute_sample_weight(class_weight='balanced', y=Y_train))\n",
    "\n",
    "print(\"Accuracy: %.3f\"% accuracy_score(Y_test, model_BNB.predict(X_te)))\n",
    "print(classification_report(Y_test, model_BNB.predict(X_te)))"
   ]
  },
  {
   "cell_type": "code",
   "execution_count": 44,
   "metadata": {},
   "outputs": [
    {
     "name": "stdout",
     "output_type": "stream",
     "text": [
      "Accuracy: 0.541\n",
      "              precision    recall  f1-score   support\n",
      "\n",
      "         1.0       0.55      0.47      0.50    165280\n",
      "         3.0       0.54      0.62      0.57    165281\n",
      "\n",
      "   micro avg       0.54      0.54      0.54    330561\n",
      "   macro avg       0.54      0.54      0.54    330561\n",
      "weighted avg       0.54      0.54      0.54    330561\n",
      "\n"
     ]
    }
   ],
   "source": [
    "# Multinomial will not take in negative input. If you standardize, the inputs may turn negative\n",
    "\n",
    "model_MNB = naive_bayes.MultinomialNB()\n",
    "model_MNB.fit(X_train, Y_train,sample_weight=compute_sample_weight(class_weight='balanced', y=Y_train))\n",
    "\n",
    "print(\"Accuracy: %.3f\"% accuracy_score(Y_test, model_MNB.predict(X_test)))\n",
    "print(classification_report(Y_test, model_MNB.predict(X_test)))"
   ]
  },
  {
   "cell_type": "code",
   "execution_count": null,
   "metadata": {},
   "outputs": [],
   "source": []
  },
  {
   "cell_type": "markdown",
   "metadata": {},
   "source": [
    "Decision Tree & Random Forest"
   ]
  },
  {
   "cell_type": "code",
   "execution_count": 47,
   "metadata": {},
   "outputs": [
    {
     "name": "stdout",
     "output_type": "stream",
     "text": [
      "0.5475566896553811\n",
      "Accuracy: 0.548\n",
      "              precision    recall  f1-score   support\n",
      "\n",
      "         1.0       0.55      0.54      0.54    661122\n",
      "         3.0       0.55      0.56      0.55    661121\n",
      "\n",
      "   micro avg       0.55      0.55      0.55   1322243\n",
      "   macro avg       0.55      0.55      0.55   1322243\n",
      "weighted avg       0.55      0.55      0.55   1322243\n",
      "\n"
     ]
    }
   ],
   "source": [
    "from sklearn.tree import DecisionTreeClassifier\n",
    "\n",
    "# Standardize Data\n",
    "scaler = StandardScaler()\n",
    "X_tr = scaler.fit_transform(X_train)\n",
    "X_te = scaler.transform(X_test)\n",
    "\n",
    "dtmodel = DecisionTreeClassifier()\n",
    "dtmodel.fit(X_tr, Y_train)\n",
    "dtscore = dtmodel.score(X_tr, Y_train) \n",
    "\n",
    "print(dtscore)\n",
    "print(\"Accuracy: %.3f\"% accuracy_score(Y_train, dtmodel.predict(X_tr)))\n",
    "print(classification_report(Y_train, dtmodel.predict(X_tr)))"
   ]
  },
  {
   "cell_type": "code",
   "execution_count": null,
   "metadata": {},
   "outputs": [],
   "source": []
  },
  {
   "cell_type": "code",
   "execution_count": 143,
   "metadata": {},
   "outputs": [
    {
     "name": "stdout",
     "output_type": "stream",
     "text": [
      "Accuracy: 0.255\n",
      "              precision    recall  f1-score   support\n",
      "\n",
      "         1.0       0.25      1.00      0.41    282047\n",
      "         3.0       0.00      0.00      0.00    825465\n",
      "\n",
      "   micro avg       0.25      0.25      0.25   1107512\n",
      "   macro avg       0.13      0.50      0.20   1107512\n",
      "weighted avg       0.06      0.25      0.10   1107512\n",
      "\n"
     ]
    }
   ],
   "source": [
    "# Testing on HOLDOUT SET - Dec. Tree\n",
    "dtmodel.predict(X_ho)\n",
    "dtmodel.score(X_ho,y_ho)\n",
    "print(\"Accuracy: %.3f\"% accuracy_score(y_ho, dtmodel.predict(X_ho)))\n",
    "print(classification_report(y_ho, dtmodel.predict(X_ho)))"
   ]
  },
  {
   "cell_type": "code",
   "execution_count": null,
   "metadata": {},
   "outputs": [],
   "source": []
  },
  {
   "cell_type": "code",
   "execution_count": 144,
   "metadata": {},
   "outputs": [],
   "source": []
  },
  {
   "cell_type": "code",
   "execution_count": 55,
   "metadata": {},
   "outputs": [
    {
     "name": "stdout",
     "output_type": "stream",
     "text": [
      "0.5000003781453182\n",
      "Accuracy: 0.500\n",
      "              precision    recall  f1-score   support\n",
      "\n",
      "         1.0       0.50      1.00      0.67    165280\n",
      "         3.0       0.00      0.00      0.00    165281\n",
      "\n",
      "   micro avg       0.50      0.50      0.50    330561\n",
      "   macro avg       0.25      0.50      0.33    330561\n",
      "weighted avg       0.25      0.50      0.33    330561\n",
      "\n"
     ]
    }
   ],
   "source": [
    "# Decision Tree Classifier with class_weight arbitrarily set\n",
    "from sklearn.tree import DecisionTreeClassifier\n",
    "\n",
    "dtmodel = DecisionTreeClassifier(class_weight={1:2, 3:1})\n",
    "dtmodel.fit(X_tr, Y_train)\n",
    "dtscore = dtmodel.score(X_tr, Y_train) \n",
    "\n",
    "print(dtscore)\n",
    "print(\"Accuracy: %.3f\"% accuracy_score(Y_test, dtmodel.predict(X_te)))\n",
    "print(classification_report(Y_test, dtmodel.predict(X_te)))"
   ]
  },
  {
   "cell_type": "code",
   "execution_count": 51,
   "metadata": {},
   "outputs": [
    {
     "name": "stdout",
     "output_type": "stream",
     "text": [
      "0.5475566896553811\n",
      "Accuracy: 0.547\n",
      "              precision    recall  f1-score   support\n",
      "\n",
      "         1.0       0.55      0.54      0.54    165280\n",
      "         3.0       0.55      0.56      0.55    165281\n",
      "\n",
      "   micro avg       0.55      0.55      0.55    330561\n",
      "   macro avg       0.55      0.55      0.55    330561\n",
      "weighted avg       0.55      0.55      0.55    330561\n",
      "\n"
     ]
    }
   ],
   "source": [
    "# Decision Tree Classifier with class_weight set to balanced\n",
    "from sklearn.tree import DecisionTreeClassifier\n",
    "\n",
    "dtmodel = DecisionTreeClassifier(class_weight='balanced')\n",
    "dtmodel.fit(X_tr, Y_train)\n",
    "dtscore = dtmodel.score(X_tr, Y_train) \n",
    "\n",
    "print(dtscore)\n",
    "print(\"Accuracy: %.3f\"% accuracy_score(Y_test, dtmodel.predict(X_te)))\n",
    "print(classification_report(Y_test, dtmodel.predict(X_te)))"
   ]
  },
  {
   "cell_type": "markdown",
   "metadata": {},
   "source": [
    "Below are several Models using Random Forest Classifier with varying parameters"
   ]
  },
  {
   "cell_type": "code",
   "execution_count": 52,
   "metadata": {},
   "outputs": [
    {
     "name": "stdout",
     "output_type": "stream",
     "text": [
      "Accuracy: 0.547\n",
      "              precision    recall  f1-score   support\n",
      "\n",
      "         1.0       0.55      0.54      0.54    165280\n",
      "         3.0       0.55      0.56      0.55    165281\n",
      "\n",
      "   micro avg       0.55      0.55      0.55    330561\n",
      "   macro avg       0.55      0.55      0.55    330561\n",
      "weighted avg       0.55      0.55      0.55    330561\n",
      "\n"
     ]
    }
   ],
   "source": [
    "from sklearn.ensemble import RandomForestClassifier\n",
    "\n",
    "rfmodel = RandomForestClassifier(n_estimators = 750,\n",
    "                                min_samples_leaf = 20, n_jobs=-1)\n",
    "rfmodel.fit(X_tr, Y_train)\n",
    "\n",
    "print(\"Accuracy: %.3f\"% accuracy_score(Y_test, rfmodel.predict(X_te)))\n",
    "print(classification_report(Y_test, rfmodel.predict(X_te)))"
   ]
  },
  {
   "cell_type": "code",
   "execution_count": 140,
   "metadata": {},
   "outputs": [
    {
     "name": "stdout",
     "output_type": "stream",
     "text": [
      "Accuracy: 0.552\n",
      "              precision    recall  f1-score   support\n",
      "\n",
      "         1.0       0.29      0.53      0.38    282047\n",
      "         3.0       0.78      0.56      0.65    825465\n",
      "\n",
      "   micro avg       0.55      0.55      0.55   1107512\n",
      "   macro avg       0.54      0.55      0.51   1107512\n",
      "weighted avg       0.65      0.55      0.58   1107512\n",
      "\n"
     ]
    }
   ],
   "source": [
    "# Testing on HOLDOUT SET - Random Forest\n",
    "rfmodel.predict(X_ho)\n",
    "rfmodel.score(X_ho,y_ho)\n",
    "print(\"Accuracy: %.3f\"% accuracy_score(y_ho, rfmodel.predict(X_ho)))\n",
    "print(classification_report(y_ho, rfmodel.predict(X_ho)))"
   ]
  },
  {
   "cell_type": "code",
   "execution_count": 141,
   "metadata": {},
   "outputs": [
    {
     "data": {
      "text/plain": [
       "Text(0,0.5,'TPR')"
      ]
     },
     "execution_count": 141,
     "metadata": {},
     "output_type": "execute_result"
    },
    {
     "data": {
      "image/png": "[encoded data removed]",
      "text/plain": [
       "<Figure size 432x288 with 1 Axes>"
      ]
     },
     "metadata": {},
     "output_type": "display_data"
    }
   ],
   "source": [
    "y_hoscore=rfmodel.predict_proba(X_ho)[:, 0]\n",
    "\n",
    "fpr, tpr,_ = roc_curve(y_ho, y_hoscore, pos_label=1.0)\n",
    "roc_auc = auc(fpr, tpr)\n",
    "\n",
    "name = 'ROC Curve - Log. Reg.'\n",
    "plt.figure()\n",
    "# Plotting our Baseline..\n",
    "plt.plot([0,1],[0,1])\n",
    "plt.plot(fpr, tpr, label='area = {0}'.format(roc_auc))\n",
    "# plt.plot(fpr,tpr)\n",
    "plt.xlabel('FPR')\n",
    "plt.ylabel('TPR')\n",
    "# plt.title(\"ROC Curve - Log. Reg. \")"
   ]
  },
  {
   "cell_type": "code",
   "execution_count": 142,
   "metadata": {},
   "outputs": [
    {
     "data": {
      "text/plain": [
       "0.566187883825757"
      ]
     },
     "execution_count": 142,
     "metadata": {},
     "output_type": "execute_result"
    }
   ],
   "source": [
    "roc_auc"
   ]
  },
  {
   "cell_type": "code",
   "execution_count": null,
   "metadata": {},
   "outputs": [],
   "source": [
    "from sklearn.ensemble import RandomForestClassifier\n",
    "\n",
    "rfmodel = RandomForestClassifier(n_estimators = 750,\n",
    "                                min_samples_leaf = 10, n_jobs=-1)\n",
    "rfmodel.fit(X_train, Y_train)\n",
    "\n",
    "print(\"Accuracy: %.3f\"% accuracy_score(Y_test, rfmodel.predict(X_test)))\n",
    "print(classification_report(Y_test, rfmodel.predict(X_test)))"
   ]
  },
  {
   "cell_type": "code",
   "execution_count": null,
   "metadata": {},
   "outputs": [],
   "source": [
    "from sklearn.ensemble import RandomForestClassifier\n",
    "\n",
    "rfmodel = RandomForestClassifier(n_estimators = 750,\n",
    "                                min_samples_leaf = 30, n_jobs=-1)\n",
    "rfmodel.fit(X_train, Y_train)\n",
    "\n",
    "print(\"Accuracy: %.3f\"% accuracy_score(Y_test, rfmodel.predict(X_test)))\n",
    "print(classification_report(Y_test, rfmodel.predict(X_test)))"
   ]
  },
  {
   "cell_type": "code",
   "execution_count": null,
   "metadata": {},
   "outputs": [],
   "source": [
    "from sklearn.ensemble import RandomForestClassifier\n",
    "\n",
    "rfmodel = RandomForestClassifier(n_estimators = 1000,\n",
    "                                min_samples_leaf = 20, n_jobs=-1)\n",
    "rfmodel.fit(X_train, Y_train)\n",
    "\n",
    "print(\"Accuracy: %.3f\"% accuracy_score(Y_test, rfmodel.predict(X_test)))\n",
    "print(classification_report(Y_test, rfmodel.predict(X_test)))"
   ]
  },
  {
   "cell_type": "markdown",
   "metadata": {},
   "source": [
    "AdaBoost Classifier"
   ]
  },
  {
   "cell_type": "code",
   "execution_count": 53,
   "metadata": {},
   "outputs": [
    {
     "name": "stdout",
     "output_type": "stream",
     "text": [
      "Accuracy: 0.542\n",
      "              precision    recall  f1-score   support\n",
      "\n",
      "         1.0       0.54      0.52      0.53    165280\n",
      "         3.0       0.54      0.56      0.55    165281\n",
      "\n",
      "   micro avg       0.54      0.54      0.54    330561\n",
      "   macro avg       0.54      0.54      0.54    330561\n",
      "weighted avg       0.54      0.54      0.54    330561\n",
      "\n"
     ]
    }
   ],
   "source": [
    "from sklearn.ensemble import AdaBoostClassifier\n",
    "\n",
    "abmodel = AdaBoostClassifier(random_state=66)\n",
    "abmodel.fit(X_tr, Y_train)\n",
    "\n",
    "print(\"Accuracy: %.3f\"% accuracy_score(Y_test, abmodel.predict(X_te)))\n",
    "print(classification_report(Y_test, abmodel.predict(X_te)))"
   ]
  },
  {
   "cell_type": "code",
   "execution_count": 146,
   "metadata": {},
   "outputs": [
    {
     "name": "stdout",
     "output_type": "stream",
     "text": [
      "Accuracy: 0.553\n",
      "              precision    recall  f1-score   support\n",
      "\n",
      "         1.0       0.29      0.52      0.37    282047\n",
      "         3.0       0.77      0.56      0.65    825465\n",
      "\n",
      "   micro avg       0.55      0.55      0.55   1107512\n",
      "   macro avg       0.53      0.54      0.51   1107512\n",
      "weighted avg       0.65      0.55      0.58   1107512\n",
      "\n"
     ]
    }
   ],
   "source": [
    "# Testing on HOLDOUT SET - Adaboost\n",
    "abmodel.predict(X_ho)\n",
    "abmodel.score(X_ho,y_ho)\n",
    "print(\"Accuracy: %.3f\"% accuracy_score(y_ho, abmodel.predict(X_ho)))\n",
    "print(classification_report(y_ho, abmodel.predict(X_ho)))"
   ]
  },
  {
   "cell_type": "code",
   "execution_count": 147,
   "metadata": {},
   "outputs": [
    {
     "data": {
      "text/plain": [
       "0.5625485126991279"
      ]
     },
     "execution_count": 147,
     "metadata": {},
     "output_type": "execute_result"
    },
    {
     "data": {
      "image/png": "[encoded data removed]",
      "text/plain": [
       "<Figure size 432x288 with 1 Axes>"
      ]
     },
     "metadata": {},
     "output_type": "display_data"
    }
   ],
   "source": [
    "y_hoscore=abmodel.predict_proba(X_ho)[:, 0]\n",
    "\n",
    "fpr, tpr,_ = roc_curve(y_ho, y_hoscore, pos_label=1.0)\n",
    "roc_auc = auc(fpr, tpr)\n",
    "\n",
    "\n",
    "plt.figure()\n",
    "# Plotting our Baseline..\n",
    "plt.plot([0,1],[0,1])\n",
    "plt.plot(fpr, tpr, label='area = {0}'.format(roc_auc))\n",
    "# plt.plot(fpr,tpr)\n",
    "plt.xlabel('FPR')\n",
    "plt.ylabel('TPR')\n",
    "\n",
    "roc_auc"
   ]
  },
  {
   "cell_type": "code",
   "execution_count": null,
   "metadata": {},
   "outputs": [],
   "source": []
  },
  {
   "cell_type": "code",
   "execution_count": 59,
   "metadata": {},
   "outputs": [],
   "source": [
    "#Logistic Regression\n",
    "\n",
    "def plot_confusion_matrix(cm,title='Confusion matrix', cmap=plt.cm.Reds):\n",
    "    plt.imshow(cm, interpolation='nearest',cmap=cmap)\n",
    "    plt.title(title)\n",
    "    plt.colorbar()\n",
    "    plt.tight_layout()\n",
    "    plt.ylabel('True label')\n",
    "    plt.xlabel('Predicted label')\n",
    "\n",
    "#Could be a typical function for classifying:\n",
    "\n",
    "def train_score(classifier,x,y):\n",
    "    xtrain, xtest, ytrain, ytest = train_test_split(x, y, stratify=y, test_size=0.2, random_state=1234)\n",
    "    ytrain=np.ravel(ytrain)\n",
    "    scaler = StandardScaler()\n",
    "    xtrain = scaler.fit_transform(xtrain)\n",
    "    xtest = scaler.transform(xtest)\n",
    "    clf = classifier.fit(xtrain, ytrain)\n",
    "    # accuracy for test & train:\n",
    "    train_acc=clf.score(xtrain, ytrain)\n",
    "    test_acc=clf.score(xtest,ytest)\n",
    "    print(\"Training Data Accuracy: %0.2f\" %(train_acc))\n",
    "    print(\"Test Data Accuracy:     %0.2f\" %(test_acc))\n",
    "    \n",
    "    y_true = ytest\n",
    "    y_pred = clf.predict(xtest)\n",
    "\n",
    "\n",
    "    conf = confusion_matrix(y_true, y_pred)\n",
    "    print(conf)\n",
    "\n",
    "    print ('\\n')\n",
    "    print (\"Precision:              %0.2f\" %(conf[0, 0] / (conf[0, 0] + conf[1, 0])))\n",
    "    print (\"Recall:                 %0.2f\"% (conf[0, 0] / (conf[0, 0] + conf[0, 1])))\n",
    "    \n",
    "    cm=confusion_matrix(y_true, y_pred, labels=None)\n",
    "    \n",
    "    plt.figure()\n",
    "    plot_confusion_matrix(cm)"
   ]
  },
  {
   "cell_type": "code",
   "execution_count": 60,
   "metadata": {},
   "outputs": [
    {
     "name": "stdout",
     "output_type": "stream",
     "text": [
      "Training Data Accuracy: 0.54\n",
      "Test Data Accuracy:     0.54\n",
      "[[86227 79053]\n",
      " [71516 93765]]\n",
      "\n",
      "\n",
      "Precision:              0.55\n",
      "Recall:                 0.52\n"
     ]
    },
    {
     "data": {
      "image/png": "[encoded data removed]",
      "text/plain": [
       "<Figure size 432x288 with 2 Axes>"
      ]
     },
     "metadata": {},
     "output_type": "display_data"
    }
   ],
   "source": [
    "log_clf=LogisticRegression()\n",
    "train_score(log_clf,X_res,y_res)"
   ]
  },
  {
   "cell_type": "code",
   "execution_count": null,
   "metadata": {},
   "outputs": [],
   "source": []
  },
  {
   "cell_type": "code",
   "execution_count": 95,
   "metadata": {},
   "outputs": [
    {
     "data": {
      "text/plain": [
       "array([[0.51668645, 0.48331355],\n",
       "       [0.391758  , 0.608242  ],\n",
       "       [0.42696377, 0.57303623],\n",
       "       ...,\n",
       "       [0.58163908, 0.41836092],\n",
       "       [0.58163908, 0.41836092],\n",
       "       [0.44953783, 0.55046217]])"
      ]
     },
     "execution_count": 95,
     "metadata": {},
     "output_type": "execute_result"
    }
   ],
   "source": [
    "log.predict_proba(xtest)"
   ]
  },
  {
   "cell_type": "code",
   "execution_count": 114,
   "metadata": {},
   "outputs": [
    {
     "data": {
      "text/plain": [
       "Text(0,0.5,'TPR')"
      ]
     },
     "execution_count": 114,
     "metadata": {},
     "output_type": "execute_result"
    },
    {
     "data": {
      "image/png": "[encoded data removed]",
      "text/plain": [
       "<Figure size 432x288 with 1 Axes>"
      ]
     },
     "metadata": {},
     "output_type": "display_data"
    }
   ],
   "source": [
    "from sklearn.model_selection import cross_validate\n",
    "from sklearn.model_selection import train_test_split\n",
    "from sklearn.metrics import roc_curve, auc\n",
    "\n",
    "# xtrain, xtest, ytrain, ytest = train_test_split(X_res, y_res, test_size=0.2, random_state=1234)\n",
    "log = LogisticRegression()\n",
    "log.fit(xtrain,np.ravel(ytrain))\n",
    "y_score=log.predict_proba(xtest)[:, 0]\n",
    "\n",
    "fpr, tpr,_ = roc_curve(ytest, y_score, pos_label=1.0)\n",
    "roc_auc = auc(fpr, tpr)\n",
    "\n",
    "name = 'ROC Curve - Log. Reg.'\n",
    "plt.figure()\n",
    "# Plotting our Baseline..\n",
    "plt.plot([0,1],[0,1])\n",
    "plt.plot(fpr, tpr, label='area = {0}'.format(roc_auc))\n",
    "# plt.plot(fpr,tpr)\n",
    "plt.xlabel('FPR')\n",
    "plt.ylabel('TPR')\n",
    "# plt.title(\"ROC Curve - Log. Reg. \") "
   ]
  },
  {
   "cell_type": "code",
   "execution_count": 98,
   "metadata": {},
   "outputs": [
    {
     "data": {
      "text/plain": [
       "0.5606851958219662"
      ]
     },
     "execution_count": 98,
     "metadata": {},
     "output_type": "execute_result"
    }
   ],
   "source": [
    "roc_auc"
   ]
  },
  {
   "cell_type": "code",
   "execution_count": 109,
   "metadata": {},
   "outputs": [],
   "source": []
  },
  {
   "cell_type": "code",
   "execution_count": 136,
   "metadata": {},
   "outputs": [
    {
     "name": "stdout",
     "output_type": "stream",
     "text": [
      "Accuracy: 0.539\n",
      "              precision    recall  f1-score   support\n",
      "\n",
      "         1.0       0.29      0.55      0.38    282047\n",
      "         3.0       0.78      0.53      0.63    825465\n",
      "\n",
      "   micro avg       0.54      0.54      0.54   1107512\n",
      "   macro avg       0.53      0.54      0.51   1107512\n",
      "weighted avg       0.65      0.54      0.57   1107512\n",
      "\n"
     ]
    }
   ],
   "source": [
    "# Testing HOLDOUT SET\n",
    "log_clf.predict(X_ho)\n",
    "log_clf.score(X_ho,y_ho)\n",
    "print(\"Accuracy: %.3f\"% accuracy_score(y_ho, log_clf.predict(X_ho)))\n",
    "print(classification_report(y_ho, log_clf.predict(X_ho)))"
   ]
  },
  {
   "cell_type": "code",
   "execution_count": 139,
   "metadata": {},
   "outputs": [
    {
     "data": {
      "text/plain": [
       "Text(0,0.5,'TPR')"
      ]
     },
     "execution_count": 139,
     "metadata": {},
     "output_type": "execute_result"
    },
    {
     "data": {
      "image/png": "[encoded data removed]",
      "text/plain": [
       "<Figure size 432x288 with 1 Axes>"
      ]
     },
     "metadata": {},
     "output_type": "display_data"
    }
   ],
   "source": [
    "y_hoscore=log_clf.predict_proba(X_ho)[:, 0]\n",
    "\n",
    "fpr, tpr,_ = roc_curve(y_ho, y_hoscore, pos_label=1.0)\n",
    "roc_auc = auc(fpr, tpr)\n",
    "\n",
    "name = 'ROC Curve - Log. Reg.'\n",
    "plt.figure()\n",
    "# Plotting our Baseline..\n",
    "plt.plot([0,1],[0,1])\n",
    "plt.plot(fpr, tpr, label='area = {0}'.format(roc_auc))\n",
    "# plt.plot(fpr,tpr)\n",
    "plt.xlabel('FPR')\n",
    "plt.ylabel('TPR')\n",
    "# plt.title(\"ROC Curve - Log. Reg. \")"
   ]
  },
  {
   "cell_type": "markdown",
   "metadata": {},
   "source": [
    "Ignore below section"
   ]
  },
  {
   "cell_type": "code",
   "execution_count": 75,
   "metadata": {},
   "outputs": [
    {
     "data": {
      "text/plain": [
       "array([0.48331355, 0.608242  , 0.57303623, ..., 0.41836092, 0.41836092,\n",
       "       0.55046217])"
      ]
     },
     "execution_count": 75,
     "metadata": {},
     "output_type": "execute_result"
    }
   ],
   "source": []
  },
  {
   "cell_type": "code",
   "execution_count": 77,
   "metadata": {},
   "outputs": [
    {
     "data": {
      "text/plain": [
       "array([[0.51668645, 0.48331355],\n",
       "       [0.391758  , 0.608242  ],\n",
       "       [0.42696377, 0.57303623],\n",
       "       ...,\n",
       "       [0.58163908, 0.41836092],\n",
       "       [0.58163908, 0.41836092],\n",
       "       [0.44953783, 0.55046217]])"
      ]
     },
     "execution_count": 77,
     "metadata": {},
     "output_type": "execute_result"
    }
   ],
   "source": [
    "log.predict_proba(xtest)"
   ]
  },
  {
   "cell_type": "code",
   "execution_count": 79,
   "metadata": {
    "scrolled": true
   },
   "outputs": [
    {
     "name": "stdout",
     "output_type": "stream",
     "text": [
      "              precision    recall  f1-score   support\n",
      "\n",
      "         1.0       0.54      0.51      0.53    165171\n",
      "         3.0       0.54      0.57      0.56    165390\n",
      "\n",
      "   micro avg       0.54      0.54      0.54    330561\n",
      "   macro avg       0.54      0.54      0.54    330561\n",
      "weighted avg       0.54      0.54      0.54    330561\n",
      "\n"
     ]
    }
   ],
   "source": [
    "print(classification_report(ytest, log.predict(xtest), ))"
   ]
  },
  {
   "cell_type": "code",
   "execution_count": 84,
   "metadata": {},
   "outputs": [
    {
     "data": {
      "text/plain": [
       "array([1., 3., 3., ..., 1., 1., 3.])"
      ]
     },
     "execution_count": 84,
     "metadata": {},
     "output_type": "execute_result"
    }
   ],
   "source": [
    "log.predict(xtest)"
   ]
  },
  {
   "cell_type": "code",
   "execution_count": 91,
   "metadata": {},
   "outputs": [],
   "source": [
    "preds = [0 if pred == 3.0 else 1 for pred in log.predict(xtest)]\n",
    "y_test = [0 if pred == 3.0 else 1 for pred in ytest]"
   ]
  },
  {
   "cell_type": "code",
   "execution_count": null,
   "metadata": {},
   "outputs": [],
   "source": []
  },
  {
   "cell_type": "code",
   "execution_count": 92,
   "metadata": {},
   "outputs": [
    {
     "name": "stdout",
     "output_type": "stream",
     "text": [
      "              precision    recall  f1-score   support\n",
      "\n",
      "           0       0.54      0.57      0.56    165390\n",
      "           1       0.54      0.51      0.53    165171\n",
      "\n",
      "   micro avg       0.54      0.54      0.54    330561\n",
      "   macro avg       0.54      0.54      0.54    330561\n",
      "weighted avg       0.54      0.54      0.54    330561\n",
      "\n"
     ]
    }
   ],
   "source": [
    "print(classification_report(y_test, preds))"
   ]
  },
  {
   "cell_type": "code",
   "execution_count": null,
   "metadata": {},
   "outputs": [],
   "source": [
    "def plot_roc(name, clf, y_test, X_test):\n",
    "    fpr, tpr, thresholds = roc_curve(y_test, clf.predict_proba(X_test)[:,1])\n",
    "    roc_auc = auc(fpr, tpr)\n",
    "    plt.plot(fpr, tpr, label= 'area = {}'.format(roc_auc)) \n",
    "#     plt.plot(fpr, tpr, label=‘%s (area = %0.3f)’ % (name, roc_auc))\n",
    "    plt.plot([0, 1], [0, 1])\n",
    "    plt.xlim([0.0, 1.0])\n",
    "    plt.ylim([0.0, 1.05])\n",
    "    plt.xlabel('False Positive Rate')\n",
    "    plt.ylabel('True Positive Rate')\n",
    "    plt.title('Receiver Operating Characteristic')\n",
    "    plt.legend(loc='lower right')\n",
    "    #plt.savefig(‘Log_ROC’)\n",
    "    plt.show()\n",
    "    return fpr, tpr, thresholds"
   ]
  }
 ],
 "metadata": {
  "kernelspec": {
   "display_name": "Python 3",
   "language": "python",
   "name": "python3"
  },
  "language_info": {
   "codemirror_mode": {
    "name": "ipython",
    "version": 3
   },
   "file_extension": ".py",
   "mimetype": "text/x-python",
   "name": "python",
   "nbconvert_exporter": "python",
   "pygments_lexer": "ipython3",
   "version": "3.6.6"
  }
 },
 "nbformat": 4,
 "nbformat_minor": 2
}
